{
 "cells": [
  {
   "cell_type": "markdown",
   "metadata": {},
   "source": [
    "### endPoints For interesting queryes"
   ]
  },
  {
   "cell_type": "raw",
   "metadata": {},
   "source": [
    "what movies are in theatres?\n",
    "/discover/movie?primary_release_date.gte=2014-09-15&primary_release_date.lte=2014-10-22"
   ]
  },
  {
   "cell_type": "raw",
   "metadata": {},
   "source": [
    "what are the most popular movies?\n",
    "/discover/movie?sort_by=popularity.desc"
   ]
  },
  {
   "cell_type": "raw",
   "metadata": {},
   "source": [
    "What are the highest rated movies rated R?\n",
    "/discover/movie/?certification_country=US&certification=R&sort_by=vote_average.desc"
   ]
  },
  {
   "cell_type": "raw",
   "metadata": {},
   "source": [
    "what are the most popular kids movies?\n",
    "/discover/movie/?certification_country=US&certification=R&sort_by=vote_average.desc"
   ]
  },
  {
   "cell_type": "raw",
   "metadata": {},
   "source": [
    "what is are the best movie from 2010?\n",
    "/discover/movie?primary_release_year=2010&sort_by=vote_average.desc"
   ]
  },
  {
   "cell_type": "raw",
   "metadata": {},
   "source": [
    "what are the best dramas that were released this year?\n",
    "/discover/movie?with_genres=18&primary_release_year=2014"
   ]
  },
  {
   "cell_type": "raw",
   "metadata": {},
   "source": [
    "what are the highest cience fiction that tom cruise has been in?\n",
    "/discover/movie?with_genres=878&with_cast=500&sort_by=vote_average.desc"
   ]
  },
  {
   "cell_type": "raw",
   "metadata": {},
   "source": [
    "what are the will ferrell highest grossing comedies?\n",
    "/discover/movie?with_genres=35&with_cast=23659&sort_by=revenue.desc"
   ]
  },
  {
   "cell_type": "raw",
   "metadata": {},
   "source": [
    "Have brad Pit and edward norton ever been in a movie together?\n",
    "/discover/movie?with_people=287,819&sort_by=vote_average.desc"
   ]
  },
  {
   "cell_type": "raw",
   "metadata": {},
   "source": [
    "has david fincher ever worked with ronney mara?\n",
    "/discover/movie?with_people=108916,7467&sort_by=popularity.desc"
   ]
  },
  {
   "cell_type": "raw",
   "metadata": {},
   "source": [
    "what are the best dramas?\n",
    "/discover/movie?with_genres=18&sort_by=vote_average.desc&vote_count.gte=10"
   ]
  },
  {
   "cell_type": "raw",
   "metadata": {},
   "source": [
    "what are liam neesons highest grossing rated R movies?\n",
    "/discover/movie?certification_country=US&certification=R&sort_by=revenue.desc&with_cast=3896"
   ]
  },
  {
   "cell_type": "raw",
   "metadata": {},
   "source": [
    "what are all the movines done by an actor?\n",
    "https://api.themoviedb.org/3/person/287?api_key=###&append_to_response=credits"
   ]
  },
  {
   "cell_type": "raw",
   "metadata": {},
   "source": [
    "how retrieve info for one movie with credits?\n",
    "https://api.themoviedb.org/3/movie/287?api_key=###&append_to_response=credits"
   ]
  },
  {
   "cell_type": "code",
   "execution_count": 1,
   "metadata": {},
   "outputs": [],
   "source": [
    "import os\n",
    "import json\n",
    "import requests"
   ]
  },
  {
   "cell_type": "code",
   "execution_count": null,
   "metadata": {},
   "outputs": [],
   "source": [
    "https://api.themoviedb.org/3/movie/157336?api_key=5311e60e67ae6f50c67e6bed4dbd7d99&append_to_response=cast\n"
   ]
  },
  {
   "cell_type": "code",
   "execution_count": 8,
   "metadata": {},
   "outputs": [],
   "source": [
    "tmdb_api_key = '5311e60e67ae6f50c67e6bed4dbd7d99' #os.environ['TMDB_API_KEY']"
   ]
  },
  {
   "cell_type": "code",
   "execution_count": 26,
   "metadata": {},
   "outputs": [],
   "source": [
    "url0 = 'http://files.tmdb.org/p/exports/movie_ids_10_3_2020.json.gz'"
   ]
  },
  {
   "cell_type": "code",
   "execution_count": 9,
   "metadata": {},
   "outputs": [],
   "source": [
    "url ='https://api.themoviedb.org/3/discover/movie'"
   ]
  },
  {
   "cell_type": "code",
   "execution_count": 10,
   "metadata": {},
   "outputs": [],
   "source": [
    "url2 = 'https://api.themoviedb.org/3/genre/list'"
   ]
  },
  {
   "cell_type": "code",
   "execution_count": 27,
   "metadata": {},
   "outputs": [],
   "source": [
    "tmdb = requests.Session()\n",
    "tmdb.params = {'api_key':tmdb_api_key}"
   ]
  },
  {
   "cell_type": "code",
   "execution_count": 28,
   "metadata": {},
   "outputs": [],
   "source": [
    "httpQuery = tmdb.get(url,params={'sort_by':'popularity.desc'})"
   ]
  },
  {
   "cell_type": "code",
   "execution_count": 29,
   "metadata": {},
   "outputs": [],
   "source": [
    "httpQuery = tmdb.get(url0)"
   ]
  },
  {
   "cell_type": "code",
   "execution_count": 30,
   "metadata": {},
   "outputs": [
    {
     "data": {
      "text/plain": [
       "'<?xml version=\"1.0\" encoding=\"UTF-8\"?>\\n<Error><Code>AccessDenied</Code><Message>Access Denied</Message><RequestId>FM1R7W8V1R5ZCQ2G</RequestId><HostId>aolnzgSRT/8f6Ofk4q2iNpxFPL0XdQGr/WqDWfPTy8B4RHbZxoZN6G80/ccxlnXrYVH5JuzWqc0=</HostId></Error>'"
      ]
     },
     "execution_count": 30,
     "metadata": {},
     "output_type": "execute_result"
    }
   ],
   "source": [
    "httpQuery.text"
   ]
  },
  {
   "cell_type": "code",
   "execution_count": 18,
   "metadata": {},
   "outputs": [
    {
     "data": {
      "text/plain": [
       "200"
      ]
     },
     "execution_count": 18,
     "metadata": {},
     "output_type": "execute_result"
    }
   ],
   "source": [
    "httpQuery.status_code"
   ]
  },
  {
   "cell_type": "code",
   "execution_count": 21,
   "metadata": {},
   "outputs": [
    {
     "data": {
      "text/plain": [
       "{'Content-Type': 'application/json;charset=utf-8', 'Transfer-Encoding': 'chunked', 'Connection': 'keep-alive', 'Date': 'Sun, 04 Oct 2020 23:15:02 GMT', 'Server': 'openresty', 'Access-Control-Allow-Origin': '*', 'Access-Control-Allow-Methods': 'GET, HEAD, POST, PUT, DELETE, OPTIONS', 'Access-Control-Expose-Headers': 'ETag, X-RateLimit-Limit, X-RateLimit-Remaining, X-RateLimit-Reset, Retry-After, Content-Length, Content-Range', 'Cache-Control': 'public, max-age=120', 'Content-Encoding': 'gzip', 'Vary': 'Accept-Encoding', 'X-Cache': 'Hit from cloudfront', 'Via': '1.1 6601fbbc90b8dda94116d5c1ba488442.cloudfront.net (CloudFront)', 'X-Amz-Cf-Pop': 'BOG50-C1', 'X-Amz-Cf-Id': 'QCaeUaolmEPpRR9eJOQYvOf1R54kUldYnGevM7RjZOoYbrNIaiTDeQ==', 'Age': '8'}"
      ]
     },
     "execution_count": 21,
     "metadata": {},
     "output_type": "execute_result"
    }
   ],
   "source": [
    "httpQuery.headers"
   ]
  },
  {
   "cell_type": "code",
   "execution_count": 25,
   "metadata": {},
   "outputs": [
    {
     "data": {
      "text/plain": [
       "[{'popularity': 14.967,\n",
       "  'vote_count': 850,\n",
       "  'video': False,\n",
       "  'poster_path': '/pci1ArYW7oJ2eyTo2NMYEKHHiCP.jpg',\n",
       "  'id': 724089,\n",
       "  'adult': False,\n",
       "  'backdrop_path': '/jtAI6OJIWLWiRItNSZoWjrsUtmi.jpg',\n",
       "  'original_language': 'en',\n",
       "  'original_title': \"Gabriel's Inferno Part II\",\n",
       "  'genre_ids': [10749],\n",
       "  'title': \"Gabriel's Inferno Part II\",\n",
       "  'vote_average': 8.9,\n",
       "  'overview': \"Professor Gabriel Emerson finally learns the truth about Julia Mitchell's identity, but his realization comes a moment too late. Julia is done waiting for the well-respected Dante specialist to remember her and wants nothing more to do with him. Can Gabriel win back her heart before she finds love in another's arms?\",\n",
       "  'release_date': '2020-07-31'},\n",
       " {'popularity': 12.958,\n",
       "  'vote_count': 1435,\n",
       "  'video': False,\n",
       "  'poster_path': '/oyG9TL7FcRP4EZ9Vid6uKzwdndz.jpg',\n",
       "  'id': 696374,\n",
       "  'adult': False,\n",
       "  'backdrop_path': '/969BfPHGJcjg2aUv60g5uiiXFzf.jpg',\n",
       "  'original_language': 'en',\n",
       "  'original_title': \"Gabriel's Inferno\",\n",
       "  'genre_ids': [10749],\n",
       "  'title': \"Gabriel's Inferno\",\n",
       "  'vote_average': 8.9,\n",
       "  'overview': \"An intriguing and sinful exploration of seduction, forbidden love, and redemption, Gabriel's Inferno is a captivating and wildly passionate tale of one man's escape from his own personal hell as he tries to earn the impossible--forgiveness and love.\",\n",
       "  'release_date': '2020-05-29'},\n",
       " {'popularity': 18.188,\n",
       "  'vote_count': 238,\n",
       "  'video': False,\n",
       "  'poster_path': '/riAooJrFvVhotyaOgoI0WR7okSe.jpg',\n",
       "  'id': 644479,\n",
       "  'adult': False,\n",
       "  'backdrop_path': '/8g1rUabKleLvovt0Sx6bXgWfC42.jpg',\n",
       "  'original_language': 'es',\n",
       "  'original_title': 'Dedicada a mi ex',\n",
       "  'genre_ids': [35, 18],\n",
       "  'title': 'Dedicated to my ex',\n",
       "  'vote_average': 8.8,\n",
       "  'overview': 'The film tells the story of Ariel, a 21-year-old who decides to form a rock band to compete for a prize of ten thousand dollars in a musical band contest, this as a last option when trying to get money to save their relationship and reunite with his ex-girlfriend, which breaks due to the trip she must make to Finland for an internship. Ariel with her friend Ortega, decides to make a casting to find the other members of the band, although they do not know nothing about music, thus forming a band with members that have diverse and opposite personalities.',\n",
       "  'release_date': '2019-11-01'},\n",
       " {'popularity': 39.457,\n",
       "  'id': 278,\n",
       "  'video': False,\n",
       "  'vote_count': 17214,\n",
       "  'vote_average': 8.7,\n",
       "  'title': 'The Shawshank Redemption',\n",
       "  'release_date': '1994-09-23',\n",
       "  'original_language': 'en',\n",
       "  'original_title': 'The Shawshank Redemption',\n",
       "  'genre_ids': [18, 80],\n",
       "  'backdrop_path': '/iNh3BivHyg5sQRPP1KOkzguEX0H.jpg',\n",
       "  'adult': False,\n",
       "  'overview': 'Framed in the 1940s for the double murder of his wife and her lover, upstanding banker Andy Dufresne begins a new life at the Shawshank prison, where he puts his accounting skills to work for an amoral warden. During his long stretch in prison, Dufresne comes to be admired by the other inmates -- including an older prisoner named Red -- for his integrity and unquenchable sense of hope.',\n",
       "  'poster_path': '/5KCVkau1HEl7ZzfPsKAPM0sMiKc.jpg'},\n",
       " {'popularity': 17.852,\n",
       "  'vote_count': 2378,\n",
       "  'video': False,\n",
       "  'poster_path': '/2CAL2433ZeIihfX1Hb2139CX0pW.jpg',\n",
       "  'id': 19404,\n",
       "  'adult': False,\n",
       "  'backdrop_path': '/svYzz6A6xleZv5toTLAhigXd1DX.jpg',\n",
       "  'original_language': 'hi',\n",
       "  'original_title': 'दिलवाले दुल्हनिया ले जायेंगे',\n",
       "  'genre_ids': [35, 18, 10749],\n",
       "  'title': 'Dilwale Dulhania Le Jayenge',\n",
       "  'vote_average': 8.7,\n",
       "  'overview': 'Raj is a rich, carefree, happy-go-lucky second generation NRI. Simran is the daughter of Chaudhary Baldev Singh, who in spite of being an NRI is very strict about adherence to Indian values. Simran has left for India to be married to her childhood fiancé. Raj leaves for India with a mission at his hands, to claim his lady love under the noses of her whole family. Thus begins a saga.',\n",
       "  'release_date': '1995-10-20'},\n",
       " {'popularity': 39.623,\n",
       "  'vote_count': 13045,\n",
       "  'video': False,\n",
       "  'poster_path': '/gk1IvgCYg6v5H5cps21ILSOrYER.jpg',\n",
       "  'id': 238,\n",
       "  'adult': False,\n",
       "  'backdrop_path': '/rSPw7tgCH9c6NqICZef4kZjFOQ5.jpg',\n",
       "  'original_language': 'en',\n",
       "  'original_title': 'The Godfather',\n",
       "  'genre_ids': [80, 18],\n",
       "  'title': 'The Godfather',\n",
       "  'vote_average': 8.7,\n",
       "  'overview': 'Spanning the years 1945 to 1955, a chronicle of the fictional Italian-American Corleone crime family. When organized crime family patriarch, Vito Corleone barely survives an attempt on his life, his youngest son, Michael steps in to take care of the would-be killers, launching a campaign of bloody revenge.',\n",
       "  'release_date': '1972-03-14'},\n",
       " {'popularity': 25.213,\n",
       "  'vote_count': 10371,\n",
       "  'video': False,\n",
       "  'poster_path': '/c8Ass7acuOe4za6DhSattE359gr.jpg',\n",
       "  'id': 424,\n",
       "  'adult': False,\n",
       "  'backdrop_path': '/loRmRzQXZeqG78TqZuyvSlEQfZb.jpg',\n",
       "  'original_language': 'en',\n",
       "  'original_title': \"Schindler's List\",\n",
       "  'genre_ids': [18, 36, 10752],\n",
       "  'title': \"Schindler's List\",\n",
       "  'vote_average': 8.6,\n",
       "  'overview': 'The true story of how businessman Oskar Schindler saved over a thousand Jewish lives from the Nazis while they worked as slaves in his factory during World War II.',\n",
       "  'release_date': '1993-11-30'},\n",
       " {'popularity': 95.521,\n",
       "  'vote_count': 6394,\n",
       "  'video': False,\n",
       "  'poster_path': '/q719jXXEzOoYaps6babgKnONONX.jpg',\n",
       "  'id': 372058,\n",
       "  'adult': False,\n",
       "  'backdrop_path': '/mMtUybQ6hL24FXo0F3Z4j2KG7kZ.jpg',\n",
       "  'original_language': 'ja',\n",
       "  'original_title': '君の名は。',\n",
       "  'genre_ids': [16, 18, 10749],\n",
       "  'title': 'Your Name.',\n",
       "  'vote_average': 8.6,\n",
       "  'overview': 'High schoolers Mitsuha and Taki are complete strangers living separate lives. But one night, they suddenly switch places. Mitsuha wakes up in Taki’s body, and he in hers. This bizarre occurrence continues to happen randomly, and the two must adjust their lives around each other.',\n",
       "  'release_date': '2016-08-26'},\n",
       " {'popularity': 26.064,\n",
       "  'vote_count': 7734,\n",
       "  'video': False,\n",
       "  'poster_path': '/hek3koDUyRQk7FIhPXsa6mT2Zc3.jpg',\n",
       "  'id': 240,\n",
       "  'adult': False,\n",
       "  'backdrop_path': '/poec6RqOKY9iSiIUmfyfPfiLtvB.jpg',\n",
       "  'original_language': 'en',\n",
       "  'original_title': 'The Godfather: Part II',\n",
       "  'genre_ids': [80, 18],\n",
       "  'title': 'The Godfather: Part II',\n",
       "  'vote_average': 8.6,\n",
       "  'overview': 'In the continuing saga of the Corleone crime family, a young Vito Corleone grows up in Sicily and in 1910s New York. In the 1950s, Michael Corleone attempts to expand the family business into Las Vegas, Hollywood and Cuba.',\n",
       "  'release_date': '1974-12-20'},\n",
       " {'popularity': 221.805,\n",
       "  'vote_count': 410,\n",
       "  'video': False,\n",
       "  'poster_path': '/zGVbrulkupqpbwgiNedkJPyQum4.jpg',\n",
       "  'id': 592350,\n",
       "  'adult': False,\n",
       "  'backdrop_path': '/9guoVF7zayiiUq5ulKQpt375VIy.jpg',\n",
       "  'original_language': 'ja',\n",
       "  'original_title': '僕のヒーローアカデミア THE MOVIE ヒーローズ：ライジング',\n",
       "  'genre_ids': [28, 16],\n",
       "  'title': 'My Hero Academia: Heroes Rising',\n",
       "  'vote_average': 8.6,\n",
       "  'overview': \"Class 1-A visits Nabu Island where they finally get to do some real hero work. The place is so peaceful that it's more like a vacation … until they're attacked by a villain with an unfathomable Quirk! His power is eerily familiar, and it looks like Shigaraki had a hand in the plan. But with All Might retired and citizens' lives on the line, there's no time for questions. Deku and his friends are the next generation of heroes, and they're the island's only hope.\",\n",
       "  'release_date': '2019-12-20'},\n",
       " {'popularity': 58.726,\n",
       "  'id': 129,\n",
       "  'video': False,\n",
       "  'vote_count': 10208,\n",
       "  'vote_average': 8.5,\n",
       "  'title': 'Spirited Away',\n",
       "  'release_date': '2001-07-20',\n",
       "  'original_language': 'ja',\n",
       "  'original_title': '千と千尋の神隠し',\n",
       "  'genre_ids': [16, 10751, 14],\n",
       "  'backdrop_path': '/mSDsSDwaP3E7dEfUPWy4J0djt4O.jpg',\n",
       "  'adult': False,\n",
       "  'overview': 'A young girl, Chihiro, becomes trapped in a strange new world of spirits. When her parents undergo a mysterious transformation, she must call upon the courage she never knew she had to free her family.',\n",
       "  'poster_path': '/2TeJfUZMGolfDdW6DKhfIWqvq8y.jpg'},\n",
       " {'popularity': 128.97,\n",
       "  'vote_count': 9319,\n",
       "  'video': False,\n",
       "  'poster_path': '/7IiTTgloJzvGI1TAYymCfbfl3vT.jpg',\n",
       "  'id': 496243,\n",
       "  'adult': False,\n",
       "  'backdrop_path': '/ApiBzeaa95TNYliSbQ8pJv4Fje7.jpg',\n",
       "  'original_language': 'ko',\n",
       "  'original_title': '기생충',\n",
       "  'genre_ids': [35, 18, 53],\n",
       "  'title': 'Parasite',\n",
       "  'vote_average': 8.5,\n",
       "  'overview': \"All unemployed, Ki-taek's family takes peculiar interest in the wealthy and glamorous Parks for their livelihood until they get entangled in an unexpected incident.\",\n",
       "  'release_date': '2019-05-30'},\n",
       " {'popularity': 40.387,\n",
       "  'vote_count': 440,\n",
       "  'video': False,\n",
       "  'poster_path': '/h1B7tW0t399VDjAcWJh8m87469b.jpg',\n",
       "  'id': 556574,\n",
       "  'adult': False,\n",
       "  'backdrop_path': '/uWVkEo9PWHu9algZsiLPi6sRU64.jpg',\n",
       "  'original_language': 'en',\n",
       "  'original_title': 'Hamilton',\n",
       "  'genre_ids': [18, 36, 10402],\n",
       "  'title': 'Hamilton',\n",
       "  'vote_average': 8.5,\n",
       "  'overview': 'Presenting the tale of American founding father Alexander Hamilton, this filmed version of the original Broadway smash hit is the story of America then, told by America now.',\n",
       "  'release_date': '2020-07-03'},\n",
       " {'popularity': 7.424,\n",
       "  'vote_count': 271,\n",
       "  'video': False,\n",
       "  'poster_path': '/zGGWYpiKNwjpKxelPxOMqJnUgDs.jpg',\n",
       "  'id': 42269,\n",
       "  'adult': False,\n",
       "  'backdrop_path': '/bh6yfB6I1N1WuMiX6K5HxGVZnja.jpg',\n",
       "  'original_language': 'it',\n",
       "  'original_title': \"C'eravamo tanto amati\",\n",
       "  'genre_ids': [35, 18],\n",
       "  'title': 'We All Loved Each Other So Much',\n",
       "  'vote_average': 8.5,\n",
       "  'overview': 'Gianni, Nicola and Antonio become close friends in 1944 while fighting the Nazis. After the end of the war, full of illusions, they settle down. The movie is a the story of the life of these three idealists and how they deal with the inevitable disillusionments of life.',\n",
       "  'release_date': '1974-12-21'},\n",
       " {'popularity': 44.63,\n",
       "  'vote_count': 11004,\n",
       "  'video': False,\n",
       "  'poster_path': '/velWPhVMQeQKcxggNEU8YmIo52R.jpg',\n",
       "  'id': 497,\n",
       "  'adult': False,\n",
       "  'backdrop_path': '/5Nz25DPXfQaSpDgce42Y3kFg9G4.jpg',\n",
       "  'original_language': 'en',\n",
       "  'original_title': 'The Green Mile',\n",
       "  'genre_ids': [80, 18, 14],\n",
       "  'title': 'The Green Mile',\n",
       "  'vote_average': 8.5,\n",
       "  'overview': \"A supernatural tale set on death row in a Southern prison, where gentle giant John Coffey possesses the mysterious power to heal people's ailments. When the cell block's head guard, Paul Edgecomb, recognizes Coffey's miraculous gift, he tries desperately to help stave off the condemned man's execution.\",\n",
       "  'release_date': '1999-12-10'},\n",
       " {'popularity': 39.275,\n",
       "  'vote_count': 19615,\n",
       "  'video': False,\n",
       "  'poster_path': '/plnlrtBUULT0rh3Xsjmpubiso3L.jpg',\n",
       "  'id': 680,\n",
       "  'adult': False,\n",
       "  'backdrop_path': '/w7RDIgQM6bLT7JXtH4iUQd3Iwxm.jpg',\n",
       "  'original_language': 'en',\n",
       "  'original_title': 'Pulp Fiction',\n",
       "  'genre_ids': [80, 53],\n",
       "  'title': 'Pulp Fiction',\n",
       "  'vote_average': 8.5,\n",
       "  'overview': \"A burger-loving hit man, his philosophical partner, a drug-addled gangster's moll and a washed-up boxer converge in this sprawling, comedic crime caper. Their adventures unfurl in three stories that ingeniously trip back and forth in time.\",\n",
       "  'release_date': '1994-09-10'},\n",
       " {'popularity': 30.834,\n",
       "  'id': 637,\n",
       "  'video': False,\n",
       "  'vote_count': 9311,\n",
       "  'vote_average': 8.5,\n",
       "  'title': 'Life Is Beautiful',\n",
       "  'release_date': '1997-12-20',\n",
       "  'original_language': 'it',\n",
       "  'original_title': 'La vita è bella',\n",
       "  'genre_ids': [35, 18],\n",
       "  'backdrop_path': '/6aNKD81RHR1DqUUa8kOZ1TBY1Lp.jpg',\n",
       "  'adult': False,\n",
       "  'overview': 'A touching story of an Italian book seller of Jewish ancestry who lives in his own little fairy tale. His creative and happy life would come to an abrupt halt when his entire family is deported to a concentration camp during World War II. While locked up he tries to convince his son that the whole thing is just a game.',\n",
       "  'poster_path': '/74hLDKjD5aGYOotO6esUVaeISa2.jpg'},\n",
       " {'popularity': 43.58,\n",
       "  'vote_count': 16312,\n",
       "  'video': False,\n",
       "  'poster_path': '/rCzpDGLbOoPwLjy3OAm5NUPOTrC.jpg',\n",
       "  'id': 122,\n",
       "  'adult': False,\n",
       "  'backdrop_path': '/9DeGfFIqjph5CBFVQrD6wv9S7rR.jpg',\n",
       "  'original_language': 'en',\n",
       "  'original_title': 'The Lord of the Rings: The Return of the King',\n",
       "  'genre_ids': [28, 12, 14],\n",
       "  'title': 'The Lord of the Rings: The Return of the King',\n",
       "  'vote_average': 8.5,\n",
       "  'overview': \"Aragorn is revealed as the heir to the ancient kings as he, Gandalf and the other members of the broken fellowship struggle to save Gondor from Sauron's forces. Meanwhile, Frodo and Sam take the ring closer to the heart of Mordor, the dark lord's realm.\",\n",
       "  'release_date': '2003-12-01'},\n",
       " {'popularity': 23.315,\n",
       "  'id': 389,\n",
       "  'video': False,\n",
       "  'vote_count': 5000,\n",
       "  'vote_average': 8.5,\n",
       "  'title': '12 Angry Men',\n",
       "  'release_date': '1957-04-10',\n",
       "  'original_language': 'en',\n",
       "  'original_title': '12 Angry Men',\n",
       "  'genre_ids': [18],\n",
       "  'backdrop_path': '/qqHQsStV6exghCM7zbObuYBiYxw.jpg',\n",
       "  'adult': False,\n",
       "  'overview': \"The defense and the prosecution have rested and the jury is filing into the jury room to decide if a young Spanish-American is guilty or innocent of murdering his father. What begins as an open and shut case soon becomes a mini-drama of each of the jurors' prejudices and preconceptions about the trial, the accused, and each other.\",\n",
       "  'poster_path': '/ppd84D2i9W8jXmsyInGyihiSyqz.jpg'},\n",
       " {'popularity': 52.997,\n",
       "  'id': 155,\n",
       "  'video': False,\n",
       "  'vote_count': 23376,\n",
       "  'vote_average': 8.5,\n",
       "  'title': 'The Dark Knight',\n",
       "  'release_date': '2008-07-16',\n",
       "  'original_language': 'en',\n",
       "  'original_title': 'The Dark Knight',\n",
       "  'genre_ids': [18, 28, 80, 53],\n",
       "  'backdrop_path': '/hkBaDkMWbLaf8B1lsWsKX7Ew3Xq.jpg',\n",
       "  'adult': False,\n",
       "  'overview': 'Batman raises the stakes in his war on crime. With the help of Lt. Jim Gordon and District Attorney Harvey Dent, Batman sets out to dismantle the remaining criminal organizations that plague the streets. The partnership proves to be effective, but they soon find themselves prey to a reign of chaos unleashed by a rising criminal mastermind known to the terrified citizens of Gotham as the Joker.',\n",
       "  'poster_path': '/qJ2tW6WMUDux911r6m7haRef0WH.jpg'}]"
      ]
     },
     "execution_count": 25,
     "metadata": {},
     "output_type": "execute_result"
    }
   ],
   "source": [
    "json.loads(httpQuery.text)['results']"
   ]
  },
  {
   "cell_type": "code",
   "execution_count": 23,
   "metadata": {},
   "outputs": [
    {
     "data": {
      "text/plain": [
       "20"
      ]
     },
     "execution_count": 23,
     "metadata": {},
     "output_type": "execute_result"
    }
   ],
   "source": [
    "len(httpQuery.json()['results'])"
   ]
  },
  {
   "cell_type": "code",
   "execution_count": 27,
   "metadata": {},
   "outputs": [],
   "source": [
    "data=httpQuery.json()['results'][5]"
   ]
  },
  {
   "cell_type": "code",
   "execution_count": 31,
   "metadata": {},
   "outputs": [],
   "source": [
    "with open('onerecordmetadata.json','w') as data_handle:\n",
    "    data_handle.write(json.dumps(data))"
   ]
  },
  {
   "cell_type": "code",
   "execution_count": 32,
   "metadata": {},
   "outputs": [],
   "source": [
    "httpQuery2 = tmdb.get(url,params={'page':2})"
   ]
  },
  {
   "cell_type": "code",
   "execution_count": 33,
   "metadata": {},
   "outputs": [
    {
     "data": {
      "text/plain": [
       "{'popularity': 30.182,\n",
       " 'id': 13,\n",
       " 'video': False,\n",
       " 'vote_count': 18950,\n",
       " 'vote_average': 8.5,\n",
       " 'title': 'Forrest Gump',\n",
       " 'release_date': '1994-07-06',\n",
       " 'original_language': 'en',\n",
       " 'original_title': 'Forrest Gump',\n",
       " 'genre_ids': [35, 18, 10749],\n",
       " 'backdrop_path': '/7c9UVPPiTPltouxRVY6N9uugaVA.jpg',\n",
       " 'adult': False,\n",
       " 'overview': 'A man with a low IQ has accomplished great things in his life and been present during significant historic events—in each case, far exceeding what anyone imagined he could do. But despite all he has achieved, his one true love eludes him.',\n",
       " 'poster_path': '/clolk7rB5lAjs41SD0Vt6IXYLMm.jpg'}"
      ]
     },
     "execution_count": 33,
     "metadata": {},
     "output_type": "execute_result"
    }
   ],
   "source": [
    "httpQuery2.json()['results'][0]"
   ]
  },
  {
   "cell_type": "code",
   "execution_count": 40,
   "metadata": {},
   "outputs": [],
   "source": [
    "tmdb2 = requests.Session()\n",
    "tmdb2.params = {'api_key':tmdb_api_key}"
   ]
  },
  {
   "cell_type": "code",
   "execution_count": 34,
   "metadata": {},
   "outputs": [],
   "source": [
    "import time"
   ]
  },
  {
   "cell_type": "code",
   "execution_count": null,
   "metadata": {},
   "outputs": [],
   "source": [
    "for i in range(100000000000000000000000): #delay execution programd \n",
    "    print(i)"
   ]
  },
  {
   "cell_type": "code",
   "execution_count": 41,
   "metadata": {},
   "outputs": [],
   "source": [
    "httpQuery3 = tmdb2.get(url2)"
   ]
  },
  {
   "cell_type": "code",
   "execution_count": 42,
   "metadata": {},
   "outputs": [
    {
     "data": {
      "text/plain": [
       "200"
      ]
     },
     "execution_count": 42,
     "metadata": {},
     "output_type": "execute_result"
    }
   ],
   "source": [
    "httpQuery3.status_code"
   ]
  },
  {
   "cell_type": "code",
   "execution_count": 43,
   "metadata": {},
   "outputs": [
    {
     "data": {
      "text/plain": [
       "{'Content-Type': 'application/json;charset=utf-8', 'Transfer-Encoding': 'chunked', 'Connection': 'keep-alive', 'Date': 'Fri, 02 Oct 2020 14:04:12 GMT', 'Server': 'openresty', 'Access-Control-Allow-Origin': '*', 'Access-Control-Allow-Methods': 'GET, HEAD, POST, PUT, DELETE, OPTIONS', 'Access-Control-Expose-Headers': 'ETag, X-RateLimit-Limit, X-RateLimit-Remaining, X-RateLimit-Reset, Retry-After, Content-Length, Content-Range', 'Cache-Control': 'public, max-age=21600', 'x-memc': 'HIT', 'x-memc-key': 'dcbbd7cfdd2d9ac58c3b3fe5bedbbff2', 'x-memc-age': '2837', 'x-memc-expires': '18763', 'ETag': 'W/\"98d6f4fb3a0e0c77544a7277f32baebb\"', 'Last-Modified': 'Fri, 02 Oct 2020 14:04:12 GMT', 'Content-Encoding': 'gzip', 'Vary': 'Accept-Encoding', 'X-Cache': 'Hit from cloudfront', 'Via': '1.1 f0d6c9b495ebafa94a1c28c69b13c175.cloudfront.net (CloudFront)', 'X-Amz-Cf-Pop': 'BOG50-C1', 'X-Amz-Cf-Id': 'U_K8kUwNRmtDIvIBhgVt4mbQETqf9BbyE7xD_hVFIyRDBF8hcWGAqA==', 'Age': '8437'}"
      ]
     },
     "execution_count": 43,
     "metadata": {},
     "output_type": "execute_result"
    }
   ],
   "source": [
    "httpQuery3.headers"
   ]
  },
  {
   "cell_type": "code",
   "execution_count": 44,
   "metadata": {},
   "outputs": [
    {
     "data": {
      "text/plain": [
       "'{\"genres\":[{\"id\":28,\"name\":\"Action\"},{\"id\":12,\"name\":\"Adventure\"},{\"id\":16,\"name\":\"Animation\"},{\"id\":35,\"name\":\"Comedy\"},{\"id\":80,\"name\":\"Crime\"},{\"id\":99,\"name\":\"Documentary\"},{\"id\":18,\"name\":\"Drama\"},{\"id\":10751,\"name\":\"Family\"},{\"id\":14,\"name\":\"Fantasy\"},{\"id\":36,\"name\":\"History\"},{\"id\":27,\"name\":\"Horror\"},{\"id\":10402,\"name\":\"Music\"},{\"id\":9648,\"name\":\"Mystery\"},{\"id\":10749,\"name\":\"Romance\"},{\"id\":878,\"name\":\"Science Fiction\"},{\"id\":10770,\"name\":\"TV Movie\"},{\"id\":53,\"name\":\"Thriller\"},{\"id\":10752,\"name\":\"War\"},{\"id\":37,\"name\":\"Western\"}]}'"
      ]
     },
     "execution_count": 44,
     "metadata": {},
     "output_type": "execute_result"
    }
   ],
   "source": [
    "httpQuery3.text"
   ]
  },
  {
   "cell_type": "code",
   "execution_count": 46,
   "metadata": {},
   "outputs": [
    {
     "name": "stdout",
     "output_type": "stream",
     "text": [
      "Action\n",
      "Adventure\n",
      "Animation\n",
      "Comedy\n",
      "Crime\n",
      "Documentary\n",
      "Drama\n",
      "Family\n",
      "Fantasy\n",
      "History\n",
      "Horror\n",
      "Music\n",
      "Mystery\n",
      "Romance\n",
      "Science Fiction\n",
      "TV Movie\n",
      "Thriller\n",
      "War\n",
      "Western\n"
     ]
    }
   ],
   "source": [
    "for genre in httpQuery3.json()['genres']:\n",
    "    print(genre['name'])"
   ]
  },
  {
   "cell_type": "code",
   "execution_count": null,
   "metadata": {},
   "outputs": [],
   "source": []
  }
 ],
 "metadata": {
  "kernelspec": {
   "display_name": "Python 3",
   "language": "python",
   "name": "python3"
  },
  "language_info": {
   "codemirror_mode": {
    "name": "ipython",
    "version": 3
   },
   "file_extension": ".py",
   "mimetype": "text/x-python",
   "name": "python",
   "nbconvert_exporter": "python",
   "pygments_lexer": "ipython3",
   "version": "3.8.2"
  }
 },
 "nbformat": 4,
 "nbformat_minor": 4
}
