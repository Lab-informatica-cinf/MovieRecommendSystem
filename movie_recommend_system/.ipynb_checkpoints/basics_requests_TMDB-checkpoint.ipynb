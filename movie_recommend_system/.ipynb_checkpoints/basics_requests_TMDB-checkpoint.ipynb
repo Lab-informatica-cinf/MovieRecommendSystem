{
 "cells": [
  {
   "cell_type": "code",
   "execution_count": 1,
   "metadata": {},
   "outputs": [],
   "source": [
    "import os\n",
    "import json\n",
    "import requests"
   ]
  },
  {
   "cell_type": "code",
   "execution_count": 2,
   "metadata": {},
   "outputs": [],
   "source": [
    "tmdb_api_key = '5311e60e67ae6f50c67e6bed4dbd7d99' #os.environ['TMDB_API_KEY']"
   ]
  },
  {
   "cell_type": "code",
   "execution_count": 36,
   "metadata": {},
   "outputs": [],
   "source": [
    "url ='https://api.themoviedb.org/3/discover/movie'"
   ]
  },
  {
   "cell_type": "code",
   "execution_count": 15,
   "metadata": {},
   "outputs": [],
   "source": [
    "url2 = 'https://api.themoviedb.org/3/genre/list'"
   ]
  },
  {
   "cell_type": "code",
   "execution_count": 37,
   "metadata": {},
   "outputs": [],
   "source": [
    "tmdb = requests.Session()\n",
    "tmdb.params = {'api_key':tmdb_api_key}"
   ]
  },
  {
   "cell_type": "code",
   "execution_count": 38,
   "metadata": {},
   "outputs": [],
   "source": [
    "httpQuery = tmdb.get(url,params={'sort_by':'popularity.desc'})"
   ]
  },
  {
   "cell_type": "code",
   "execution_count": 40,
   "metadata": {},
   "outputs": [
    {
     "data": {
      "text/plain": [
       "'{\"page\":1,\"total_results\":10000,\"total_pages\":500,\"results\":[{\"popularity\":1969.622,\"vote_count\":1359,\"video\":false,\"poster_path\":\"\\\\/riYInlsq2kf1AWoGm80JQW5dLKp.jpg\",\"id\":497582,\"adult\":false,\"backdrop_path\":\"\\\\/kMe4TKMDNXTKptQPAdOF0oZHq3V.jpg\",\"original_language\":\"en\",\"original_title\":\"Enola Holmes\",\"genre_ids\":[12,80,18,9648],\"title\":\"Enola Holmes\",\"vote_average\":7.7,\"overview\":\"While searching for her missing mother, intrepid teen Enola Holmes uses her sleuthing skills to outsmart big brother Sherlock and help a runaway lord.\",\"release_date\":\"2020-09-23\"},{\"popularity\":1550.695,\"vote_count\":58,\"video\":false,\"poster_path\":\"\\\\/6CoRTJTmijhBLJTUNoVSUNxZMEI.jpg\",\"id\":694919,\"adult\":false,\"backdrop_path\":\"\\\\/pq0JSpwyT2URytdFG0euztQPAyR.jpg\",\"original_language\":\"en\",\"original_title\":\"Money Plane\",\"genre_ids\":[28],\"title\":\"Money Plane\",\"vote_average\":5.9,\"overview\":\"A professional thief with $40 million in debt and his family\\'s life on the line must commit one final heist - rob a futuristic airborne casino filled with the world\\'s most dangerous criminals.\",\"release_date\":\"2020-09-29\"},{\"popularity\":1000.723,\"vote_count\":2183,\"video\":false,\"poster_path\":\"\\\\/aKx1ARwG55zZ0GpRvU2WrGrCG9o.jpg\",\"id\":337401,\"adult\":false,\"backdrop_path\":\"\\\\/zzWGRw277MNoCs3zhyG3YmYQsXv.jpg\",\"original_language\":\"en\",\"original_title\":\"Mulan\",\"genre_ids\":[28,12,18,14],\"title\":\"Mulan\",\"vote_average\":7.4,\"overview\":\"When the Emperor of China issues a decree that one man per family must serve in the Imperial Chinese Army to defend the country from Huns, Hua Mulan, the eldest daughter of an honored warrior, steps in to take the place of her ailing father. She is spirited, determined and quick on her feet. Disguised as a man by the name of Hua Jun, she is tested every step of the way and must harness her innermost strength and embrace her true potential.\",\"release_date\":\"2020-09-04\"},{\"popularity\":882.969,\"vote_count\":113,\"video\":false,\"poster_path\":\"\\\\/ugZW8ocsrfgI95pnQ7wrmKDxIe.jpg\",\"id\":724989,\"adult\":false,\"backdrop_path\":\"\\\\/86L8wqGMDbwURPni2t7FQ0nDjsH.jpg\",\"original_language\":\"en\",\"original_title\":\"Hard Kill\",\"genre_ids\":[28,53],\"title\":\"Hard Kill\",\"vote_average\":5,\"overview\":\"The work of billionaire tech CEO Donovan Chalmers is so valuable that he hires mercenaries to protect it, and a terrorist group kidnaps his daughter just to get it.\",\"release_date\":\"2020-08-25\"},{\"popularity\":912.384,\"vote_count\":37,\"video\":false,\"poster_path\":\"\\\\/qOYf3L6eyCO027JoeM33pTJcNSR.jpg\",\"id\":623634,\"adult\":false,\"backdrop_path\":\"\\\\/jcM9ESSE8eIzo2A3ymjUiy5uyyL.jpg\",\"original_language\":\"ca\",\"original_title\":\"La innòcencia\",\"genre_ids\":[18],\"title\":\"The Innocence\",\"vote_average\":6.3,\"overview\":\"Lis is a teenager whose dream is to become a circus artist and leave her hometown, even if she knows that to do it she’ll have to fight her side against her parents. It’s summer and she spends her days playing with her friends and flirting with her boyfriend, a few years older than herself. The lack of privacy and the neighbours’ gossip force Lis to keep their relationship secret so that her parents won’t find out. A relationship which change her live forever.\",\"release_date\":\"2020-01-10\"},{\"popularity\":795.526,\"vote_count\":398,\"video\":false,\"poster_path\":\"\\\\/qzA87Wf4jo1h8JMk9GilyIYvwsA.jpg\",\"id\":539885,\"adult\":false,\"backdrop_path\":\"\\\\/54yOImQgj8i85u9hxxnaIQBRUuo.jpg\",\"original_language\":\"en\",\"original_title\":\"Ava\",\"genre_ids\":[28,80,18,53],\"title\":\"Ava\",\"vote_average\":6,\"overview\":\"A black ops assassin is forced to fight for her own survival after a job goes dangerously wrong.\",\"release_date\":\"2020-07-02\"},{\"popularity\":739.239,\"vote_count\":199,\"video\":false,\"poster_path\":\"\\\\/vJHSParlylICnI7DuuI54nfTPRR.jpg\",\"id\":438396,\"adult\":false,\"backdrop_path\":\"\\\\/qGZe9qTuydxyJYQ60XDtEckzLR8.jpg\",\"original_language\":\"es\",\"original_title\":\"Orígenes secretos\",\"genre_ids\":[18,53],\"title\":\"Unknown Origins\",\"vote_average\":6.2,\"overview\":\"In Madrid, Spain, a mysterious serial killer ruthlessly murders his victims by recreating the first appearance of several comic book superheroes. Cosme, a veteran police inspector who is about to retire, works on the case along with the tormented inspector David Valentín and his own son Jorge Elías, a nerdy young man who owns a comic book store.\",\"release_date\":\"2020-08-28\"},{\"popularity\":698.489,\"vote_count\":280,\"video\":false,\"poster_path\":\"\\\\/uOw5JD8IlD546feZ6oxbIjvN66P.jpg\",\"id\":718444,\"adult\":false,\"backdrop_path\":\"\\\\/x4UkhIQuHIJyeeOTdcbZ3t3gBSa.jpg\",\"original_language\":\"pt\",\"original_title\":\"Rogue\",\"genre_ids\":[28],\"title\":\"Rogue\",\"vote_average\":5.9,\"overview\":\"Battle-hardened O’Hara leads a lively mercenary team of soldiers on a daring mission: rescue hostages from their captors in remote Africa. But as the mission goes awry and the team is stranded, O’Hara’s squad must face a bloody, brutal encounter with a gang of rebels.\",\"release_date\":\"2020-08-20\"},{\"popularity\":765.541,\"vote_count\":121,\"video\":false,\"poster_path\":\"\\\\/9Rj8l6gElLpRL7Kj17iZhrT5Zuw.jpg\",\"id\":734309,\"adult\":false,\"backdrop_path\":\"\\\\/7fvdg211A2L0mHddvzyArRuRalp.jpg\",\"original_language\":\"en\",\"original_title\":\"Santana\",\"genre_ids\":[28],\"title\":\"Santana\",\"vote_average\":5.7,\"overview\":\"Two brothers — one a narcotics agent and the other a general — finally discover the identity of the drug lord who murdered their parents decades ago. They may kill each other before capturing the bad guys.\",\"release_date\":\"2020-08-28\"},{\"popularity\":586.924,\"vote_count\":24,\"video\":false,\"poster_path\":\"\\\\/4BgSWFMW2MJ0dT5metLzsRWO7IJ.jpg\",\"id\":726739,\"adult\":false,\"backdrop_path\":\"\\\\/axPvTxOKwbV70hdJgf3SfI71gDn.jpg\",\"original_language\":\"en\",\"original_title\":\"Cats & Dogs 3: Paws Unite\",\"genre_ids\":[28,35],\"title\":\"Cats & Dogs 3: Paws Unite\",\"vote_average\":6.9,\"overview\":\"It\\'s been ten years since the creation of the Great Truce, an elaborate joint-species surveillance system designed and monitored by cats and dogs to keep the peace when conflicts arise. But when a tech-savvy villain hacks into wireless networks to use frequencies only heard by cats and dogs, he manipulates them into conflict and the worldwide battle between cats and dogs is BACK ON. Now, a team of inexperienced and untested agents will have to use their old-school animal instincts to restore order and peace between cats and dogs everywhere.\",\"release_date\":\"2020-10-02\"},{\"popularity\":707.014,\"vote_count\":537,\"video\":false,\"poster_path\":\"\\\\/sy6DvAu72kjoseZEjocnm2ZZ09i.jpg\",\"id\":581392,\"adult\":false,\"backdrop_path\":\"\\\\/gEjNlhZhyHeto6Fy5wWy5Uk3A9D.jpg\",\"original_language\":\"ko\",\"original_title\":\"반도\",\"genre_ids\":[28,27,53],\"title\":\"Peninsula\",\"vote_average\":7,\"overview\":\"A soldier and his team battle hordes of post-apocalyptic zombies in the wastelands of the Korean Peninsula.\",\"release_date\":\"2020-07-15\"},{\"popularity\":531.559,\"vote_count\":1362,\"video\":false,\"poster_path\":\"\\\\/TnOeov4w0sTtV2gqICqIxVi74V.jpg\",\"id\":605116,\"adult\":false,\"backdrop_path\":\"\\\\/qVygtf2vU15L2yKS4Ke44U4oMdD.jpg\",\"original_language\":\"en\",\"original_title\":\"Project Power\",\"genre_ids\":[28,80,878],\"title\":\"Project Power\",\"vote_average\":6.6,\"overview\":\"An ex-soldier, a teen and a cop collide in New Orleans as they hunt for the source behind a dangerous new pill that grants users temporary superpowers.\",\"release_date\":\"2020-08-14\"},{\"popularity\":529.452,\"vote_count\":99,\"video\":false,\"poster_path\":\"\\\\/i4kPwXPlM1iy8Jf3S1uuLuwqQAV.jpg\",\"id\":721452,\"adult\":false,\"backdrop_path\":\"\\\\/riDrpqQtZpXGeiJdlmfcwwPH7nN.jpg\",\"original_language\":\"en\",\"original_title\":\"One Night in Bangkok\",\"genre_ids\":[28,53],\"title\":\"One Night in Bangkok\",\"vote_average\":7.3,\"overview\":\"A hit man named Kai flies into Bangkok, gets a gun, and orders a cab. He offers a professional female driver big money to be his all-night driver. But when she realizes Kai is committing brutal murders at each stop, it\\'s too late to walk away. Meanwhile, an offbeat police detective races to decode the string of slayings before more blood is spilled.\",\"release_date\":\"2020-08-25\"},{\"popularity\":473.11,\"vote_count\":6,\"video\":false,\"poster_path\":\"\\\\/rAeQaySpt5iSdK8eWOpBnSB8mGQ.jpg\",\"id\":720395,\"adult\":false,\"backdrop_path\":\"\\\\/a0tw4II2EQFjzSONDk86Q0YLNT2.jpg\",\"original_language\":\"en\",\"original_title\":\"Let It Snow\",\"genre_ids\":[27,53],\"title\":\"Let It Snow\",\"vote_average\":5.3,\"overview\":\"Separated from her fiance after sneaking onto a restricted slope, Mia, a free riding snowboarder, must survive not only against nature, but the masked snowmobile rider in black who\\'s out for her blood.\",\"release_date\":\"2020-09-22\"},{\"popularity\":437.559,\"vote_count\":113,\"video\":false,\"poster_path\":\"\\\\/eDnHgozW8vfOaLHzfpHluf1GZCW.jpg\",\"id\":606234,\"adult\":false,\"backdrop_path\":\"\\\\/u9YEh2xVAPVTKoaMNlB5tH6pXkm.jpg\",\"original_language\":\"en\",\"original_title\":\"Archive\",\"genre_ids\":[878],\"title\":\"Archive\",\"vote_average\":5.7,\"overview\":\"2038: George Almore is working on a true human-equivalent AI, and his latest prototype is almost ready. This sensitive phase is also the riskiest as he has a goal that must be hidden at all costs—being reunited with his dead wife.\",\"release_date\":\"2020-08-13\"},{\"popularity\":461.585,\"vote_count\":95,\"video\":false,\"poster_path\":\"\\\\/n6hptKS7Y0ZjkYwbqKOK3jz9XAC.jpg\",\"id\":594328,\"adult\":false,\"backdrop_path\":\"\\\\/lkeBhXGJFRlhI7cBWn8LQQAdZqK.jpg\",\"original_language\":\"en\",\"original_title\":\"Phineas and Ferb The Movie: Candace Against the Universe\",\"genre_ids\":[16,35,10402,878,10751,10770],\"title\":\"Phineas and Ferb The Movie: Candace Against the Universe\",\"vote_average\":7.1,\"overview\":\"Phineas and Ferb travel across the galaxy to rescue their older sister Candace, who has been abducted by aliens and taken to a utopia in a far-off planet, free of her pesky little brothers.\",\"release_date\":\"2020-08-28\"},{\"popularity\":642.345,\"vote_count\":88,\"video\":false,\"poster_path\":\"\\\\/x0fojycYFbT0eqXXbEO6aDqkalX.jpg\",\"id\":621870,\"adult\":false,\"backdrop_path\":\"\\\\/uN4BEmphubHVBSFibqiOwi7wq28.jpg\",\"original_language\":\"en\",\"original_title\":\"Secret Society of Second Born Royals\",\"genre_ids\":[28,12,35,14],\"title\":\"Secret Society of Second Born Royals\",\"vote_average\":7.4,\"overview\":\"Sam is a teenage royal rebel, second in line to the throne of the kingdom of Illyria. Just as her disinterest in the royal way of life is at an all-time high, she discovers she has super-human abilities and is invited to join a secret society of similar extraordinary second-born royals charged with keeping the world safe.\",\"release_date\":\"2020-09-25\"},{\"popularity\":445.01,\"vote_count\":130,\"video\":false,\"poster_path\":\"\\\\/irkse1FMm9dWemwlxKJ7RINT9Iy.jpg\",\"id\":627290,\"adult\":false,\"backdrop_path\":\"\\\\/pGqBDYycGWsMYc57sYv5M9GAQoW.jpg\",\"original_language\":\"en\",\"original_title\":\"Antebellum\",\"genre_ids\":[27],\"title\":\"Antebellum\",\"vote_average\":6,\"overview\":\"Successful author Veronica finds herself trapped in a horrifying reality and must uncover the mind-bending mystery before it\\'s too late.\",\"release_date\":\"2020-09-02\"},{\"popularity\":370.25,\"vote_count\":14,\"video\":false,\"poster_path\":\"\\\\/dKSN0oZCUSNcEd39MnySLYmpUiJ.jpg\",\"id\":735110,\"adult\":false,\"backdrop_path\":\"\\\\/aahbYclKYfms6Utm5YHQOywsj9N.jpg\",\"original_language\":\"es\",\"original_title\":\"Fuego negro\",\"genre_ids\":[28,27,9648,53],\"title\":\"Dark Forces\",\"vote_average\":5.1,\"overview\":\"In search of his sister, a renegade criminal seeks answers at a sordid hotel where he encounters a sinister guest and romances a mysterious waitress.\",\"release_date\":\"2020-08-21\"},{\"popularity\":387.767,\"vote_count\":67,\"video\":false,\"poster_path\":\"\\\\/gzFatNrw0lhKD5NxaU6zC7S2KjP.jpg\",\"id\":659986,\"adult\":false,\"backdrop_path\":\"\\\\/xUUtcxWC6H48UCrpRwwSPQz69XC.jpg\",\"original_language\":\"en\",\"original_title\":\"The Owners\",\"genre_ids\":[28,27,53],\"title\":\"The Owners\",\"vote_average\":5.9,\"overview\":\"A group of friends think they found the perfect easy score - an empty house with a safe full of cash. But when the elderly couple that lives there comes home early, the tables are suddenly turned. As a deadly game of cat and mouse ensues, the would-be thieves must fight to save themselves from a nightmare they could never have imagined.\",\"release_date\":\"2020-09-04\"}]}'"
      ]
     },
     "execution_count": 40,
     "metadata": {},
     "output_type": "execute_result"
    }
   ],
   "source": [
    "httpQuery.text"
   ]
  },
  {
   "cell_type": "code",
   "execution_count": 18,
   "metadata": {},
   "outputs": [
    {
     "data": {
      "text/plain": [
       "200"
      ]
     },
     "execution_count": 18,
     "metadata": {},
     "output_type": "execute_result"
    }
   ],
   "source": [
    "httpQuery.status_code"
   ]
  },
  {
   "cell_type": "code",
   "execution_count": 19,
   "metadata": {},
   "outputs": [
    {
     "data": {
      "text/plain": [
       "{'Content-Type': 'application/json;charset=utf-8', 'Transfer-Encoding': 'chunked', 'Connection': 'keep-alive', 'Date': 'Fri, 02 Oct 2020 13:39:53 GMT', 'Server': 'openresty', 'Access-Control-Allow-Origin': '*', 'Access-Control-Allow-Methods': 'GET, HEAD, POST, PUT, DELETE, OPTIONS', 'Access-Control-Expose-Headers': 'ETag, X-RateLimit-Limit, X-RateLimit-Remaining, X-RateLimit-Reset, Retry-After, Content-Length, Content-Range', 'Cache-Control': 'public, max-age=21600', 'Content-Encoding': 'gzip', 'Vary': 'Accept-Encoding', 'X-Cache': 'Hit from cloudfront', 'Via': '1.1 9c03d20589c567aed3b6de58731132b1.cloudfront.net (CloudFront)', 'X-Amz-Cf-Pop': 'BOG50-C1', 'X-Amz-Cf-Id': 'rJRnv_-nBQU-wPacpxj0Uc8sJ85pSDIgjvVtOwkPWkw0jHZh_LsudQ==', 'Age': '8492'}"
      ]
     },
     "execution_count": 19,
     "metadata": {},
     "output_type": "execute_result"
    }
   ],
   "source": [
    "httpQuery.headers"
   ]
  },
  {
   "cell_type": "code",
   "execution_count": 25,
   "metadata": {},
   "outputs": [
    {
     "data": {
      "text/plain": [
       "[{'popularity': 14.967,\n",
       "  'vote_count': 850,\n",
       "  'video': False,\n",
       "  'poster_path': '/pci1ArYW7oJ2eyTo2NMYEKHHiCP.jpg',\n",
       "  'id': 724089,\n",
       "  'adult': False,\n",
       "  'backdrop_path': '/jtAI6OJIWLWiRItNSZoWjrsUtmi.jpg',\n",
       "  'original_language': 'en',\n",
       "  'original_title': \"Gabriel's Inferno Part II\",\n",
       "  'genre_ids': [10749],\n",
       "  'title': \"Gabriel's Inferno Part II\",\n",
       "  'vote_average': 8.9,\n",
       "  'overview': \"Professor Gabriel Emerson finally learns the truth about Julia Mitchell's identity, but his realization comes a moment too late. Julia is done waiting for the well-respected Dante specialist to remember her and wants nothing more to do with him. Can Gabriel win back her heart before she finds love in another's arms?\",\n",
       "  'release_date': '2020-07-31'},\n",
       " {'popularity': 12.958,\n",
       "  'vote_count': 1435,\n",
       "  'video': False,\n",
       "  'poster_path': '/oyG9TL7FcRP4EZ9Vid6uKzwdndz.jpg',\n",
       "  'id': 696374,\n",
       "  'adult': False,\n",
       "  'backdrop_path': '/969BfPHGJcjg2aUv60g5uiiXFzf.jpg',\n",
       "  'original_language': 'en',\n",
       "  'original_title': \"Gabriel's Inferno\",\n",
       "  'genre_ids': [10749],\n",
       "  'title': \"Gabriel's Inferno\",\n",
       "  'vote_average': 8.9,\n",
       "  'overview': \"An intriguing and sinful exploration of seduction, forbidden love, and redemption, Gabriel's Inferno is a captivating and wildly passionate tale of one man's escape from his own personal hell as he tries to earn the impossible--forgiveness and love.\",\n",
       "  'release_date': '2020-05-29'},\n",
       " {'popularity': 18.188,\n",
       "  'vote_count': 238,\n",
       "  'video': False,\n",
       "  'poster_path': '/riAooJrFvVhotyaOgoI0WR7okSe.jpg',\n",
       "  'id': 644479,\n",
       "  'adult': False,\n",
       "  'backdrop_path': '/8g1rUabKleLvovt0Sx6bXgWfC42.jpg',\n",
       "  'original_language': 'es',\n",
       "  'original_title': 'Dedicada a mi ex',\n",
       "  'genre_ids': [35, 18],\n",
       "  'title': 'Dedicated to my ex',\n",
       "  'vote_average': 8.8,\n",
       "  'overview': 'The film tells the story of Ariel, a 21-year-old who decides to form a rock band to compete for a prize of ten thousand dollars in a musical band contest, this as a last option when trying to get money to save their relationship and reunite with his ex-girlfriend, which breaks due to the trip she must make to Finland for an internship. Ariel with her friend Ortega, decides to make a casting to find the other members of the band, although they do not know nothing about music, thus forming a band with members that have diverse and opposite personalities.',\n",
       "  'release_date': '2019-11-01'},\n",
       " {'popularity': 39.457,\n",
       "  'id': 278,\n",
       "  'video': False,\n",
       "  'vote_count': 17214,\n",
       "  'vote_average': 8.7,\n",
       "  'title': 'The Shawshank Redemption',\n",
       "  'release_date': '1994-09-23',\n",
       "  'original_language': 'en',\n",
       "  'original_title': 'The Shawshank Redemption',\n",
       "  'genre_ids': [18, 80],\n",
       "  'backdrop_path': '/iNh3BivHyg5sQRPP1KOkzguEX0H.jpg',\n",
       "  'adult': False,\n",
       "  'overview': 'Framed in the 1940s for the double murder of his wife and her lover, upstanding banker Andy Dufresne begins a new life at the Shawshank prison, where he puts his accounting skills to work for an amoral warden. During his long stretch in prison, Dufresne comes to be admired by the other inmates -- including an older prisoner named Red -- for his integrity and unquenchable sense of hope.',\n",
       "  'poster_path': '/5KCVkau1HEl7ZzfPsKAPM0sMiKc.jpg'},\n",
       " {'popularity': 17.852,\n",
       "  'vote_count': 2378,\n",
       "  'video': False,\n",
       "  'poster_path': '/2CAL2433ZeIihfX1Hb2139CX0pW.jpg',\n",
       "  'id': 19404,\n",
       "  'adult': False,\n",
       "  'backdrop_path': '/svYzz6A6xleZv5toTLAhigXd1DX.jpg',\n",
       "  'original_language': 'hi',\n",
       "  'original_title': 'दिलवाले दुल्हनिया ले जायेंगे',\n",
       "  'genre_ids': [35, 18, 10749],\n",
       "  'title': 'Dilwale Dulhania Le Jayenge',\n",
       "  'vote_average': 8.7,\n",
       "  'overview': 'Raj is a rich, carefree, happy-go-lucky second generation NRI. Simran is the daughter of Chaudhary Baldev Singh, who in spite of being an NRI is very strict about adherence to Indian values. Simran has left for India to be married to her childhood fiancé. Raj leaves for India with a mission at his hands, to claim his lady love under the noses of her whole family. Thus begins a saga.',\n",
       "  'release_date': '1995-10-20'},\n",
       " {'popularity': 39.623,\n",
       "  'vote_count': 13045,\n",
       "  'video': False,\n",
       "  'poster_path': '/gk1IvgCYg6v5H5cps21ILSOrYER.jpg',\n",
       "  'id': 238,\n",
       "  'adult': False,\n",
       "  'backdrop_path': '/rSPw7tgCH9c6NqICZef4kZjFOQ5.jpg',\n",
       "  'original_language': 'en',\n",
       "  'original_title': 'The Godfather',\n",
       "  'genre_ids': [80, 18],\n",
       "  'title': 'The Godfather',\n",
       "  'vote_average': 8.7,\n",
       "  'overview': 'Spanning the years 1945 to 1955, a chronicle of the fictional Italian-American Corleone crime family. When organized crime family patriarch, Vito Corleone barely survives an attempt on his life, his youngest son, Michael steps in to take care of the would-be killers, launching a campaign of bloody revenge.',\n",
       "  'release_date': '1972-03-14'},\n",
       " {'popularity': 25.213,\n",
       "  'vote_count': 10371,\n",
       "  'video': False,\n",
       "  'poster_path': '/c8Ass7acuOe4za6DhSattE359gr.jpg',\n",
       "  'id': 424,\n",
       "  'adult': False,\n",
       "  'backdrop_path': '/loRmRzQXZeqG78TqZuyvSlEQfZb.jpg',\n",
       "  'original_language': 'en',\n",
       "  'original_title': \"Schindler's List\",\n",
       "  'genre_ids': [18, 36, 10752],\n",
       "  'title': \"Schindler's List\",\n",
       "  'vote_average': 8.6,\n",
       "  'overview': 'The true story of how businessman Oskar Schindler saved over a thousand Jewish lives from the Nazis while they worked as slaves in his factory during World War II.',\n",
       "  'release_date': '1993-11-30'},\n",
       " {'popularity': 95.521,\n",
       "  'vote_count': 6394,\n",
       "  'video': False,\n",
       "  'poster_path': '/q719jXXEzOoYaps6babgKnONONX.jpg',\n",
       "  'id': 372058,\n",
       "  'adult': False,\n",
       "  'backdrop_path': '/mMtUybQ6hL24FXo0F3Z4j2KG7kZ.jpg',\n",
       "  'original_language': 'ja',\n",
       "  'original_title': '君の名は。',\n",
       "  'genre_ids': [16, 18, 10749],\n",
       "  'title': 'Your Name.',\n",
       "  'vote_average': 8.6,\n",
       "  'overview': 'High schoolers Mitsuha and Taki are complete strangers living separate lives. But one night, they suddenly switch places. Mitsuha wakes up in Taki’s body, and he in hers. This bizarre occurrence continues to happen randomly, and the two must adjust their lives around each other.',\n",
       "  'release_date': '2016-08-26'},\n",
       " {'popularity': 26.064,\n",
       "  'vote_count': 7734,\n",
       "  'video': False,\n",
       "  'poster_path': '/hek3koDUyRQk7FIhPXsa6mT2Zc3.jpg',\n",
       "  'id': 240,\n",
       "  'adult': False,\n",
       "  'backdrop_path': '/poec6RqOKY9iSiIUmfyfPfiLtvB.jpg',\n",
       "  'original_language': 'en',\n",
       "  'original_title': 'The Godfather: Part II',\n",
       "  'genre_ids': [80, 18],\n",
       "  'title': 'The Godfather: Part II',\n",
       "  'vote_average': 8.6,\n",
       "  'overview': 'In the continuing saga of the Corleone crime family, a young Vito Corleone grows up in Sicily and in 1910s New York. In the 1950s, Michael Corleone attempts to expand the family business into Las Vegas, Hollywood and Cuba.',\n",
       "  'release_date': '1974-12-20'},\n",
       " {'popularity': 221.805,\n",
       "  'vote_count': 410,\n",
       "  'video': False,\n",
       "  'poster_path': '/zGVbrulkupqpbwgiNedkJPyQum4.jpg',\n",
       "  'id': 592350,\n",
       "  'adult': False,\n",
       "  'backdrop_path': '/9guoVF7zayiiUq5ulKQpt375VIy.jpg',\n",
       "  'original_language': 'ja',\n",
       "  'original_title': '僕のヒーローアカデミア THE MOVIE ヒーローズ：ライジング',\n",
       "  'genre_ids': [28, 16],\n",
       "  'title': 'My Hero Academia: Heroes Rising',\n",
       "  'vote_average': 8.6,\n",
       "  'overview': \"Class 1-A visits Nabu Island where they finally get to do some real hero work. The place is so peaceful that it's more like a vacation … until they're attacked by a villain with an unfathomable Quirk! His power is eerily familiar, and it looks like Shigaraki had a hand in the plan. But with All Might retired and citizens' lives on the line, there's no time for questions. Deku and his friends are the next generation of heroes, and they're the island's only hope.\",\n",
       "  'release_date': '2019-12-20'},\n",
       " {'popularity': 58.726,\n",
       "  'id': 129,\n",
       "  'video': False,\n",
       "  'vote_count': 10208,\n",
       "  'vote_average': 8.5,\n",
       "  'title': 'Spirited Away',\n",
       "  'release_date': '2001-07-20',\n",
       "  'original_language': 'ja',\n",
       "  'original_title': '千と千尋の神隠し',\n",
       "  'genre_ids': [16, 10751, 14],\n",
       "  'backdrop_path': '/mSDsSDwaP3E7dEfUPWy4J0djt4O.jpg',\n",
       "  'adult': False,\n",
       "  'overview': 'A young girl, Chihiro, becomes trapped in a strange new world of spirits. When her parents undergo a mysterious transformation, she must call upon the courage she never knew she had to free her family.',\n",
       "  'poster_path': '/2TeJfUZMGolfDdW6DKhfIWqvq8y.jpg'},\n",
       " {'popularity': 128.97,\n",
       "  'vote_count': 9319,\n",
       "  'video': False,\n",
       "  'poster_path': '/7IiTTgloJzvGI1TAYymCfbfl3vT.jpg',\n",
       "  'id': 496243,\n",
       "  'adult': False,\n",
       "  'backdrop_path': '/ApiBzeaa95TNYliSbQ8pJv4Fje7.jpg',\n",
       "  'original_language': 'ko',\n",
       "  'original_title': '기생충',\n",
       "  'genre_ids': [35, 18, 53],\n",
       "  'title': 'Parasite',\n",
       "  'vote_average': 8.5,\n",
       "  'overview': \"All unemployed, Ki-taek's family takes peculiar interest in the wealthy and glamorous Parks for their livelihood until they get entangled in an unexpected incident.\",\n",
       "  'release_date': '2019-05-30'},\n",
       " {'popularity': 40.387,\n",
       "  'vote_count': 440,\n",
       "  'video': False,\n",
       "  'poster_path': '/h1B7tW0t399VDjAcWJh8m87469b.jpg',\n",
       "  'id': 556574,\n",
       "  'adult': False,\n",
       "  'backdrop_path': '/uWVkEo9PWHu9algZsiLPi6sRU64.jpg',\n",
       "  'original_language': 'en',\n",
       "  'original_title': 'Hamilton',\n",
       "  'genre_ids': [18, 36, 10402],\n",
       "  'title': 'Hamilton',\n",
       "  'vote_average': 8.5,\n",
       "  'overview': 'Presenting the tale of American founding father Alexander Hamilton, this filmed version of the original Broadway smash hit is the story of America then, told by America now.',\n",
       "  'release_date': '2020-07-03'},\n",
       " {'popularity': 7.424,\n",
       "  'vote_count': 271,\n",
       "  'video': False,\n",
       "  'poster_path': '/zGGWYpiKNwjpKxelPxOMqJnUgDs.jpg',\n",
       "  'id': 42269,\n",
       "  'adult': False,\n",
       "  'backdrop_path': '/bh6yfB6I1N1WuMiX6K5HxGVZnja.jpg',\n",
       "  'original_language': 'it',\n",
       "  'original_title': \"C'eravamo tanto amati\",\n",
       "  'genre_ids': [35, 18],\n",
       "  'title': 'We All Loved Each Other So Much',\n",
       "  'vote_average': 8.5,\n",
       "  'overview': 'Gianni, Nicola and Antonio become close friends in 1944 while fighting the Nazis. After the end of the war, full of illusions, they settle down. The movie is a the story of the life of these three idealists and how they deal with the inevitable disillusionments of life.',\n",
       "  'release_date': '1974-12-21'},\n",
       " {'popularity': 44.63,\n",
       "  'vote_count': 11004,\n",
       "  'video': False,\n",
       "  'poster_path': '/velWPhVMQeQKcxggNEU8YmIo52R.jpg',\n",
       "  'id': 497,\n",
       "  'adult': False,\n",
       "  'backdrop_path': '/5Nz25DPXfQaSpDgce42Y3kFg9G4.jpg',\n",
       "  'original_language': 'en',\n",
       "  'original_title': 'The Green Mile',\n",
       "  'genre_ids': [80, 18, 14],\n",
       "  'title': 'The Green Mile',\n",
       "  'vote_average': 8.5,\n",
       "  'overview': \"A supernatural tale set on death row in a Southern prison, where gentle giant John Coffey possesses the mysterious power to heal people's ailments. When the cell block's head guard, Paul Edgecomb, recognizes Coffey's miraculous gift, he tries desperately to help stave off the condemned man's execution.\",\n",
       "  'release_date': '1999-12-10'},\n",
       " {'popularity': 39.275,\n",
       "  'vote_count': 19615,\n",
       "  'video': False,\n",
       "  'poster_path': '/plnlrtBUULT0rh3Xsjmpubiso3L.jpg',\n",
       "  'id': 680,\n",
       "  'adult': False,\n",
       "  'backdrop_path': '/w7RDIgQM6bLT7JXtH4iUQd3Iwxm.jpg',\n",
       "  'original_language': 'en',\n",
       "  'original_title': 'Pulp Fiction',\n",
       "  'genre_ids': [80, 53],\n",
       "  'title': 'Pulp Fiction',\n",
       "  'vote_average': 8.5,\n",
       "  'overview': \"A burger-loving hit man, his philosophical partner, a drug-addled gangster's moll and a washed-up boxer converge in this sprawling, comedic crime caper. Their adventures unfurl in three stories that ingeniously trip back and forth in time.\",\n",
       "  'release_date': '1994-09-10'},\n",
       " {'popularity': 30.834,\n",
       "  'id': 637,\n",
       "  'video': False,\n",
       "  'vote_count': 9311,\n",
       "  'vote_average': 8.5,\n",
       "  'title': 'Life Is Beautiful',\n",
       "  'release_date': '1997-12-20',\n",
       "  'original_language': 'it',\n",
       "  'original_title': 'La vita è bella',\n",
       "  'genre_ids': [35, 18],\n",
       "  'backdrop_path': '/6aNKD81RHR1DqUUa8kOZ1TBY1Lp.jpg',\n",
       "  'adult': False,\n",
       "  'overview': 'A touching story of an Italian book seller of Jewish ancestry who lives in his own little fairy tale. His creative and happy life would come to an abrupt halt when his entire family is deported to a concentration camp during World War II. While locked up he tries to convince his son that the whole thing is just a game.',\n",
       "  'poster_path': '/74hLDKjD5aGYOotO6esUVaeISa2.jpg'},\n",
       " {'popularity': 43.58,\n",
       "  'vote_count': 16312,\n",
       "  'video': False,\n",
       "  'poster_path': '/rCzpDGLbOoPwLjy3OAm5NUPOTrC.jpg',\n",
       "  'id': 122,\n",
       "  'adult': False,\n",
       "  'backdrop_path': '/9DeGfFIqjph5CBFVQrD6wv9S7rR.jpg',\n",
       "  'original_language': 'en',\n",
       "  'original_title': 'The Lord of the Rings: The Return of the King',\n",
       "  'genre_ids': [28, 12, 14],\n",
       "  'title': 'The Lord of the Rings: The Return of the King',\n",
       "  'vote_average': 8.5,\n",
       "  'overview': \"Aragorn is revealed as the heir to the ancient kings as he, Gandalf and the other members of the broken fellowship struggle to save Gondor from Sauron's forces. Meanwhile, Frodo and Sam take the ring closer to the heart of Mordor, the dark lord's realm.\",\n",
       "  'release_date': '2003-12-01'},\n",
       " {'popularity': 23.315,\n",
       "  'id': 389,\n",
       "  'video': False,\n",
       "  'vote_count': 5000,\n",
       "  'vote_average': 8.5,\n",
       "  'title': '12 Angry Men',\n",
       "  'release_date': '1957-04-10',\n",
       "  'original_language': 'en',\n",
       "  'original_title': '12 Angry Men',\n",
       "  'genre_ids': [18],\n",
       "  'backdrop_path': '/qqHQsStV6exghCM7zbObuYBiYxw.jpg',\n",
       "  'adult': False,\n",
       "  'overview': \"The defense and the prosecution have rested and the jury is filing into the jury room to decide if a young Spanish-American is guilty or innocent of murdering his father. What begins as an open and shut case soon becomes a mini-drama of each of the jurors' prejudices and preconceptions about the trial, the accused, and each other.\",\n",
       "  'poster_path': '/ppd84D2i9W8jXmsyInGyihiSyqz.jpg'},\n",
       " {'popularity': 52.997,\n",
       "  'id': 155,\n",
       "  'video': False,\n",
       "  'vote_count': 23376,\n",
       "  'vote_average': 8.5,\n",
       "  'title': 'The Dark Knight',\n",
       "  'release_date': '2008-07-16',\n",
       "  'original_language': 'en',\n",
       "  'original_title': 'The Dark Knight',\n",
       "  'genre_ids': [18, 28, 80, 53],\n",
       "  'backdrop_path': '/hkBaDkMWbLaf8B1lsWsKX7Ew3Xq.jpg',\n",
       "  'adult': False,\n",
       "  'overview': 'Batman raises the stakes in his war on crime. With the help of Lt. Jim Gordon and District Attorney Harvey Dent, Batman sets out to dismantle the remaining criminal organizations that plague the streets. The partnership proves to be effective, but they soon find themselves prey to a reign of chaos unleashed by a rising criminal mastermind known to the terrified citizens of Gotham as the Joker.',\n",
       "  'poster_path': '/qJ2tW6WMUDux911r6m7haRef0WH.jpg'}]"
      ]
     },
     "execution_count": 25,
     "metadata": {},
     "output_type": "execute_result"
    }
   ],
   "source": [
    "json.loads(httpQuery.text)['results']"
   ]
  },
  {
   "cell_type": "code",
   "execution_count": 23,
   "metadata": {},
   "outputs": [
    {
     "data": {
      "text/plain": [
       "20"
      ]
     },
     "execution_count": 23,
     "metadata": {},
     "output_type": "execute_result"
    }
   ],
   "source": [
    "len(httpQuery.json()['results'])"
   ]
  },
  {
   "cell_type": "code",
   "execution_count": 27,
   "metadata": {},
   "outputs": [],
   "source": [
    "data=httpQuery.json()['results'][5]"
   ]
  },
  {
   "cell_type": "code",
   "execution_count": 31,
   "metadata": {},
   "outputs": [],
   "source": [
    "with open('onerecordmetadata.json','w') as data_handle:\n",
    "    data_handle.write(json.dumps(data))"
   ]
  },
  {
   "cell_type": "code",
   "execution_count": 32,
   "metadata": {},
   "outputs": [],
   "source": [
    "httpQuery2 = tmdb.get(url,params={'page':2})"
   ]
  },
  {
   "cell_type": "code",
   "execution_count": 33,
   "metadata": {},
   "outputs": [
    {
     "data": {
      "text/plain": [
       "{'popularity': 30.182,\n",
       " 'id': 13,\n",
       " 'video': False,\n",
       " 'vote_count': 18950,\n",
       " 'vote_average': 8.5,\n",
       " 'title': 'Forrest Gump',\n",
       " 'release_date': '1994-07-06',\n",
       " 'original_language': 'en',\n",
       " 'original_title': 'Forrest Gump',\n",
       " 'genre_ids': [35, 18, 10749],\n",
       " 'backdrop_path': '/7c9UVPPiTPltouxRVY6N9uugaVA.jpg',\n",
       " 'adult': False,\n",
       " 'overview': 'A man with a low IQ has accomplished great things in his life and been present during significant historic events—in each case, far exceeding what anyone imagined he could do. But despite all he has achieved, his one true love eludes him.',\n",
       " 'poster_path': '/clolk7rB5lAjs41SD0Vt6IXYLMm.jpg'}"
      ]
     },
     "execution_count": 33,
     "metadata": {},
     "output_type": "execute_result"
    }
   ],
   "source": [
    "httpQuery2.json()['results'][0]"
   ]
  },
  {
   "cell_type": "code",
   "execution_count": 40,
   "metadata": {},
   "outputs": [],
   "source": [
    "tmdb2 = requests.Session()\n",
    "tmdb2.params = {'api_key':tmdb_api_key}"
   ]
  },
  {
   "cell_type": "code",
   "execution_count": 34,
   "metadata": {},
   "outputs": [],
   "source": [
    "import time"
   ]
  },
  {
   "cell_type": "code",
   "execution_count": null,
   "metadata": {},
   "outputs": [],
   "source": [
    "for i in range(100000000000000000000000): #delay execution programd \n",
    "    print(i)"
   ]
  },
  {
   "cell_type": "code",
   "execution_count": 41,
   "metadata": {},
   "outputs": [],
   "source": [
    "httpQuery3 = tmdb2.get(url2)"
   ]
  },
  {
   "cell_type": "code",
   "execution_count": 42,
   "metadata": {},
   "outputs": [
    {
     "data": {
      "text/plain": [
       "200"
      ]
     },
     "execution_count": 42,
     "metadata": {},
     "output_type": "execute_result"
    }
   ],
   "source": [
    "httpQuery3.status_code"
   ]
  },
  {
   "cell_type": "code",
   "execution_count": 43,
   "metadata": {},
   "outputs": [
    {
     "data": {
      "text/plain": [
       "{'Content-Type': 'application/json;charset=utf-8', 'Transfer-Encoding': 'chunked', 'Connection': 'keep-alive', 'Date': 'Fri, 02 Oct 2020 14:04:12 GMT', 'Server': 'openresty', 'Access-Control-Allow-Origin': '*', 'Access-Control-Allow-Methods': 'GET, HEAD, POST, PUT, DELETE, OPTIONS', 'Access-Control-Expose-Headers': 'ETag, X-RateLimit-Limit, X-RateLimit-Remaining, X-RateLimit-Reset, Retry-After, Content-Length, Content-Range', 'Cache-Control': 'public, max-age=21600', 'x-memc': 'HIT', 'x-memc-key': 'dcbbd7cfdd2d9ac58c3b3fe5bedbbff2', 'x-memc-age': '2837', 'x-memc-expires': '18763', 'ETag': 'W/\"98d6f4fb3a0e0c77544a7277f32baebb\"', 'Last-Modified': 'Fri, 02 Oct 2020 14:04:12 GMT', 'Content-Encoding': 'gzip', 'Vary': 'Accept-Encoding', 'X-Cache': 'Hit from cloudfront', 'Via': '1.1 f0d6c9b495ebafa94a1c28c69b13c175.cloudfront.net (CloudFront)', 'X-Amz-Cf-Pop': 'BOG50-C1', 'X-Amz-Cf-Id': 'U_K8kUwNRmtDIvIBhgVt4mbQETqf9BbyE7xD_hVFIyRDBF8hcWGAqA==', 'Age': '8437'}"
      ]
     },
     "execution_count": 43,
     "metadata": {},
     "output_type": "execute_result"
    }
   ],
   "source": [
    "httpQuery3.headers"
   ]
  },
  {
   "cell_type": "code",
   "execution_count": 44,
   "metadata": {},
   "outputs": [
    {
     "data": {
      "text/plain": [
       "'{\"genres\":[{\"id\":28,\"name\":\"Action\"},{\"id\":12,\"name\":\"Adventure\"},{\"id\":16,\"name\":\"Animation\"},{\"id\":35,\"name\":\"Comedy\"},{\"id\":80,\"name\":\"Crime\"},{\"id\":99,\"name\":\"Documentary\"},{\"id\":18,\"name\":\"Drama\"},{\"id\":10751,\"name\":\"Family\"},{\"id\":14,\"name\":\"Fantasy\"},{\"id\":36,\"name\":\"History\"},{\"id\":27,\"name\":\"Horror\"},{\"id\":10402,\"name\":\"Music\"},{\"id\":9648,\"name\":\"Mystery\"},{\"id\":10749,\"name\":\"Romance\"},{\"id\":878,\"name\":\"Science Fiction\"},{\"id\":10770,\"name\":\"TV Movie\"},{\"id\":53,\"name\":\"Thriller\"},{\"id\":10752,\"name\":\"War\"},{\"id\":37,\"name\":\"Western\"}]}'"
      ]
     },
     "execution_count": 44,
     "metadata": {},
     "output_type": "execute_result"
    }
   ],
   "source": [
    "httpQuery3.text"
   ]
  },
  {
   "cell_type": "code",
   "execution_count": 46,
   "metadata": {},
   "outputs": [
    {
     "name": "stdout",
     "output_type": "stream",
     "text": [
      "Action\n",
      "Adventure\n",
      "Animation\n",
      "Comedy\n",
      "Crime\n",
      "Documentary\n",
      "Drama\n",
      "Family\n",
      "Fantasy\n",
      "History\n",
      "Horror\n",
      "Music\n",
      "Mystery\n",
      "Romance\n",
      "Science Fiction\n",
      "TV Movie\n",
      "Thriller\n",
      "War\n",
      "Western\n"
     ]
    }
   ],
   "source": [
    "for genre in httpQuery3.json()['genres']:\n",
    "    print(genre['name'])"
   ]
  },
  {
   "cell_type": "code",
   "execution_count": null,
   "metadata": {},
   "outputs": [],
   "source": []
  }
 ],
 "metadata": {
  "kernelspec": {
   "display_name": "Python 3",
   "language": "python",
   "name": "python3"
  },
  "language_info": {
   "codemirror_mode": {
    "name": "ipython",
    "version": 3
   },
   "file_extension": ".py",
   "mimetype": "text/x-python",
   "name": "python",
   "nbconvert_exporter": "python",
   "pygments_lexer": "ipython3",
   "version": "3.8.2"
  }
 },
 "nbformat": 4,
 "nbformat_minor": 4
}
