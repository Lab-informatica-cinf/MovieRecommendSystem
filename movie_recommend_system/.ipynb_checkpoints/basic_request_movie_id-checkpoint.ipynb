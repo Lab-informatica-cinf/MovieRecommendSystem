{
 "cells": [
  {
   "cell_type": "code",
   "execution_count": 12,
   "metadata": {},
   "outputs": [],
   "source": [
    "import os\n",
    "import json\n",
    "import requests"
   ]
  },
  {
   "cell_type": "code",
   "execution_count": 13,
   "metadata": {},
   "outputs": [],
   "source": [
    "tmdb_api_key = '5311e60e67ae6f50c67e6bed4dbd7d99' #os.environ['TMDB_API_KEY']"
   ]
  },
  {
   "cell_type": "code",
   "execution_count": 14,
   "metadata": {},
   "outputs": [],
   "source": [
    "url ='https://api.themoviedb.org/3/movie/top_rated'"
   ]
  },
  {
   "cell_type": "code",
   "execution_count": 15,
   "metadata": {},
   "outputs": [],
   "source": [
    "url2 = 'https://api.themoviedb.org/3/genre/list'"
   ]
  },
  {
   "cell_type": "code",
   "execution_count": 16,
   "metadata": {},
   "outputs": [],
   "source": [
    "tmdb = requests.Session()\n",
    "tmdb.params = {'api_key':tmdb_api_key}"
   ]
  },
  {
   "cell_type": "code",
   "execution_count": 17,
   "metadata": {},
   "outputs": [],
   "source": [
    "httpQuery = tmdb.get(url)"
   ]
  },
  {
   "cell_type": "code",
   "execution_count": 18,
   "metadata": {},
   "outputs": [
    {
     "data": {
      "text/plain": [
       "200"
      ]
     },
     "execution_count": 18,
     "metadata": {},
     "output_type": "execute_result"
    }
   ],
   "source": [
    "httpQuery.status_code"
   ]
  },
  {
   "cell_type": "code",
   "execution_count": 19,
   "metadata": {},
   "outputs": [
    {
     "data": {
      "text/plain": [
       "{'Content-Type': 'application/json;charset=utf-8', 'Transfer-Encoding': 'chunked', 'Connection': 'keep-alive', 'Date': 'Fri, 02 Oct 2020 13:39:53 GMT', 'Server': 'openresty', 'Access-Control-Allow-Origin': '*', 'Access-Control-Allow-Methods': 'GET, HEAD, POST, PUT, DELETE, OPTIONS', 'Access-Control-Expose-Headers': 'ETag, X-RateLimit-Limit, X-RateLimit-Remaining, X-RateLimit-Reset, Retry-After, Content-Length, Content-Range', 'Cache-Control': 'public, max-age=21600', 'Content-Encoding': 'gzip', 'Vary': 'Accept-Encoding', 'X-Cache': 'Hit from cloudfront', 'Via': '1.1 9c03d20589c567aed3b6de58731132b1.cloudfront.net (CloudFront)', 'X-Amz-Cf-Pop': 'BOG50-C1', 'X-Amz-Cf-Id': 'rJRnv_-nBQU-wPacpxj0Uc8sJ85pSDIgjvVtOwkPWkw0jHZh_LsudQ==', 'Age': '8492'}"
      ]
     },
     "execution_count": 19,
     "metadata": {},
     "output_type": "execute_result"
    }
   ],
   "source": [
    "httpQuery.headers"
   ]
  },
  {
   "cell_type": "code",
   "execution_count": 22,
   "metadata": {},
   "outputs": [
    {
     "data": {
      "text/plain": [
       "'{\"page\":1,\"total_results\":7842,\"total_pages\":393,\"results\":[{\"popularity\":14.967,\"vote_count\":850,\"video\":false,\"poster_path\":\"\\\\/pci1ArYW7oJ2eyTo2NMYEKHHiCP.jpg\",\"id\":724089,\"adult\":false,\"backdrop_path\":\"\\\\/jtAI6OJIWLWiRItNSZoWjrsUtmi.jpg\",\"original_language\":\"en\",\"original_title\":\"Gabriel\\'s Inferno Part II\",\"genre_ids\":[10749],\"title\":\"Gabriel\\'s Inferno Part II\",\"vote_average\":8.9,\"overview\":\"Professor Gabriel Emerson finally learns the truth about Julia Mitchell\\'s identity, but his realization comes a moment too late. Julia is done waiting for the well-respected Dante specialist to remember her and wants nothing more to do with him. Can Gabriel win back her heart before she finds love in another\\'s arms?\",\"release_date\":\"2020-07-31\"},{\"popularity\":12.958,\"vote_count\":1435,\"video\":false,\"poster_path\":\"\\\\/oyG9TL7FcRP4EZ9Vid6uKzwdndz.jpg\",\"id\":696374,\"adult\":false,\"backdrop_path\":\"\\\\/969BfPHGJcjg2aUv60g5uiiXFzf.jpg\",\"original_language\":\"en\",\"original_title\":\"Gabriel\\'s Inferno\",\"genre_ids\":[10749],\"title\":\"Gabriel\\'s Inferno\",\"vote_average\":8.9,\"overview\":\"An intriguing and sinful exploration of seduction, forbidden love, and redemption, Gabriel\\'s Inferno is a captivating and wildly passionate tale of one man\\'s escape from his own personal hell as he tries to earn the impossible--forgiveness and love.\",\"release_date\":\"2020-05-29\"},{\"popularity\":18.188,\"vote_count\":238,\"video\":false,\"poster_path\":\"\\\\/riAooJrFvVhotyaOgoI0WR7okSe.jpg\",\"id\":644479,\"adult\":false,\"backdrop_path\":\"\\\\/8g1rUabKleLvovt0Sx6bXgWfC42.jpg\",\"original_language\":\"es\",\"original_title\":\"Dedicada a mi ex\",\"genre_ids\":[35,18],\"title\":\"Dedicated to my ex\",\"vote_average\":8.8,\"overview\":\"The film tells the story of Ariel, a 21-year-old who decides to form a rock band to compete for a prize of ten thousand dollars in a musical band contest, this as a last option when trying to get money to save their relationship and reunite with his ex-girlfriend, which breaks due to the trip she must make to Finland for an internship. Ariel with her friend Ortega, decides to make a casting to find the other members of the band, although they do not know nothing about music, thus forming a band with members that have diverse and opposite personalities.\",\"release_date\":\"2019-11-01\"},{\"popularity\":39.457,\"id\":278,\"video\":false,\"vote_count\":17214,\"vote_average\":8.7,\"title\":\"The Shawshank Redemption\",\"release_date\":\"1994-09-23\",\"original_language\":\"en\",\"original_title\":\"The Shawshank Redemption\",\"genre_ids\":[18,80],\"backdrop_path\":\"\\\\/iNh3BivHyg5sQRPP1KOkzguEX0H.jpg\",\"adult\":false,\"overview\":\"Framed in the 1940s for the double murder of his wife and her lover, upstanding banker Andy Dufresne begins a new life at the Shawshank prison, where he puts his accounting skills to work for an amoral warden. During his long stretch in prison, Dufresne comes to be admired by the other inmates -- including an older prisoner named Red -- for his integrity and unquenchable sense of hope.\",\"poster_path\":\"\\\\/5KCVkau1HEl7ZzfPsKAPM0sMiKc.jpg\"},{\"popularity\":17.852,\"vote_count\":2378,\"video\":false,\"poster_path\":\"\\\\/2CAL2433ZeIihfX1Hb2139CX0pW.jpg\",\"id\":19404,\"adult\":false,\"backdrop_path\":\"\\\\/svYzz6A6xleZv5toTLAhigXd1DX.jpg\",\"original_language\":\"hi\",\"original_title\":\"दिलवाले दुल्हनिया ले जायेंगे\",\"genre_ids\":[35,18,10749],\"title\":\"Dilwale Dulhania Le Jayenge\",\"vote_average\":8.7,\"overview\":\"Raj is a rich, carefree, happy-go-lucky second generation NRI. Simran is the daughter of Chaudhary Baldev Singh, who in spite of being an NRI is very strict about adherence to Indian values. Simran has left for India to be married to her childhood fiancé. Raj leaves for India with a mission at his hands, to claim his lady love under the noses of her whole family. Thus begins a saga.\",\"release_date\":\"1995-10-20\"},{\"popularity\":39.623,\"vote_count\":13045,\"video\":false,\"poster_path\":\"\\\\/gk1IvgCYg6v5H5cps21ILSOrYER.jpg\",\"id\":238,\"adult\":false,\"backdrop_path\":\"\\\\/rSPw7tgCH9c6NqICZef4kZjFOQ5.jpg\",\"original_language\":\"en\",\"original_title\":\"The Godfather\",\"genre_ids\":[80,18],\"title\":\"The Godfather\",\"vote_average\":8.7,\"overview\":\"Spanning the years 1945 to 1955, a chronicle of the fictional Italian-American Corleone crime family. When organized crime family patriarch, Vito Corleone barely survives an attempt on his life, his youngest son, Michael steps in to take care of the would-be killers, launching a campaign of bloody revenge.\",\"release_date\":\"1972-03-14\"},{\"popularity\":25.213,\"vote_count\":10371,\"video\":false,\"poster_path\":\"\\\\/c8Ass7acuOe4za6DhSattE359gr.jpg\",\"id\":424,\"adult\":false,\"backdrop_path\":\"\\\\/loRmRzQXZeqG78TqZuyvSlEQfZb.jpg\",\"original_language\":\"en\",\"original_title\":\"Schindler\\'s List\",\"genre_ids\":[18,36,10752],\"title\":\"Schindler\\'s List\",\"vote_average\":8.6,\"overview\":\"The true story of how businessman Oskar Schindler saved over a thousand Jewish lives from the Nazis while they worked as slaves in his factory during World War II.\",\"release_date\":\"1993-11-30\"},{\"popularity\":95.521,\"vote_count\":6394,\"video\":false,\"poster_path\":\"\\\\/q719jXXEzOoYaps6babgKnONONX.jpg\",\"id\":372058,\"adult\":false,\"backdrop_path\":\"\\\\/mMtUybQ6hL24FXo0F3Z4j2KG7kZ.jpg\",\"original_language\":\"ja\",\"original_title\":\"君の名は。\",\"genre_ids\":[16,18,10749],\"title\":\"Your Name.\",\"vote_average\":8.6,\"overview\":\"High schoolers Mitsuha and Taki are complete strangers living separate lives. But one night, they suddenly switch places. Mitsuha wakes up in Taki’s body, and he in hers. This bizarre occurrence continues to happen randomly, and the two must adjust their lives around each other.\",\"release_date\":\"2016-08-26\"},{\"popularity\":26.064,\"vote_count\":7734,\"video\":false,\"poster_path\":\"\\\\/hek3koDUyRQk7FIhPXsa6mT2Zc3.jpg\",\"id\":240,\"adult\":false,\"backdrop_path\":\"\\\\/poec6RqOKY9iSiIUmfyfPfiLtvB.jpg\",\"original_language\":\"en\",\"original_title\":\"The Godfather: Part II\",\"genre_ids\":[80,18],\"title\":\"The Godfather: Part II\",\"vote_average\":8.6,\"overview\":\"In the continuing saga of the Corleone crime family, a young Vito Corleone grows up in Sicily and in 1910s New York. In the 1950s, Michael Corleone attempts to expand the family business into Las Vegas, Hollywood and Cuba.\",\"release_date\":\"1974-12-20\"},{\"popularity\":221.805,\"vote_count\":410,\"video\":false,\"poster_path\":\"\\\\/zGVbrulkupqpbwgiNedkJPyQum4.jpg\",\"id\":592350,\"adult\":false,\"backdrop_path\":\"\\\\/9guoVF7zayiiUq5ulKQpt375VIy.jpg\",\"original_language\":\"ja\",\"original_title\":\"僕のヒーローアカデミア THE MOVIE ヒーローズ：ライジング\",\"genre_ids\":[28,16],\"title\":\"My Hero Academia: Heroes Rising\",\"vote_average\":8.6,\"overview\":\"Class 1-A visits Nabu Island where they finally get to do some real hero work. The place is so peaceful that it\\'s more like a vacation … until they\\'re attacked by a villain with an unfathomable Quirk! His power is eerily familiar, and it looks like Shigaraki had a hand in the plan. But with All Might retired and citizens\\' lives on the line, there\\'s no time for questions. Deku and his friends are the next generation of heroes, and they\\'re the island\\'s only hope.\",\"release_date\":\"2019-12-20\"},{\"popularity\":58.726,\"id\":129,\"video\":false,\"vote_count\":10208,\"vote_average\":8.5,\"title\":\"Spirited Away\",\"release_date\":\"2001-07-20\",\"original_language\":\"ja\",\"original_title\":\"千と千尋の神隠し\",\"genre_ids\":[16,10751,14],\"backdrop_path\":\"\\\\/mSDsSDwaP3E7dEfUPWy4J0djt4O.jpg\",\"adult\":false,\"overview\":\"A young girl, Chihiro, becomes trapped in a strange new world of spirits. When her parents undergo a mysterious transformation, she must call upon the courage she never knew she had to free her family.\",\"poster_path\":\"\\\\/2TeJfUZMGolfDdW6DKhfIWqvq8y.jpg\"},{\"popularity\":128.97,\"vote_count\":9319,\"video\":false,\"poster_path\":\"\\\\/7IiTTgloJzvGI1TAYymCfbfl3vT.jpg\",\"id\":496243,\"adult\":false,\"backdrop_path\":\"\\\\/ApiBzeaa95TNYliSbQ8pJv4Fje7.jpg\",\"original_language\":\"ko\",\"original_title\":\"기생충\",\"genre_ids\":[35,18,53],\"title\":\"Parasite\",\"vote_average\":8.5,\"overview\":\"All unemployed, Ki-taek\\'s family takes peculiar interest in the wealthy and glamorous Parks for their livelihood until they get entangled in an unexpected incident.\",\"release_date\":\"2019-05-30\"},{\"popularity\":40.387,\"vote_count\":440,\"video\":false,\"poster_path\":\"\\\\/h1B7tW0t399VDjAcWJh8m87469b.jpg\",\"id\":556574,\"adult\":false,\"backdrop_path\":\"\\\\/uWVkEo9PWHu9algZsiLPi6sRU64.jpg\",\"original_language\":\"en\",\"original_title\":\"Hamilton\",\"genre_ids\":[18,36,10402],\"title\":\"Hamilton\",\"vote_average\":8.5,\"overview\":\"Presenting the tale of American founding father Alexander Hamilton, this filmed version of the original Broadway smash hit is the story of America then, told by America now.\",\"release_date\":\"2020-07-03\"},{\"popularity\":7.424,\"vote_count\":271,\"video\":false,\"poster_path\":\"\\\\/zGGWYpiKNwjpKxelPxOMqJnUgDs.jpg\",\"id\":42269,\"adult\":false,\"backdrop_path\":\"\\\\/bh6yfB6I1N1WuMiX6K5HxGVZnja.jpg\",\"original_language\":\"it\",\"original_title\":\"C\\'eravamo tanto amati\",\"genre_ids\":[35,18],\"title\":\"We All Loved Each Other So Much\",\"vote_average\":8.5,\"overview\":\"Gianni, Nicola and Antonio become close friends in 1944 while fighting the Nazis. After the end of the war, full of illusions, they settle down. The movie is a the story of the life of these three idealists and how they deal with the inevitable disillusionments of life.\",\"release_date\":\"1974-12-21\"},{\"popularity\":44.63,\"vote_count\":11004,\"video\":false,\"poster_path\":\"\\\\/velWPhVMQeQKcxggNEU8YmIo52R.jpg\",\"id\":497,\"adult\":false,\"backdrop_path\":\"\\\\/5Nz25DPXfQaSpDgce42Y3kFg9G4.jpg\",\"original_language\":\"en\",\"original_title\":\"The Green Mile\",\"genre_ids\":[80,18,14],\"title\":\"The Green Mile\",\"vote_average\":8.5,\"overview\":\"A supernatural tale set on death row in a Southern prison, where gentle giant John Coffey possesses the mysterious power to heal people\\'s ailments. When the cell block\\'s head guard, Paul Edgecomb, recognizes Coffey\\'s miraculous gift, he tries desperately to help stave off the condemned man\\'s execution.\",\"release_date\":\"1999-12-10\"},{\"popularity\":39.275,\"vote_count\":19615,\"video\":false,\"poster_path\":\"\\\\/plnlrtBUULT0rh3Xsjmpubiso3L.jpg\",\"id\":680,\"adult\":false,\"backdrop_path\":\"\\\\/w7RDIgQM6bLT7JXtH4iUQd3Iwxm.jpg\",\"original_language\":\"en\",\"original_title\":\"Pulp Fiction\",\"genre_ids\":[80,53],\"title\":\"Pulp Fiction\",\"vote_average\":8.5,\"overview\":\"A burger-loving hit man, his philosophical partner, a drug-addled gangster\\'s moll and a washed-up boxer converge in this sprawling, comedic crime caper. Their adventures unfurl in three stories that ingeniously trip back and forth in time.\",\"release_date\":\"1994-09-10\"},{\"popularity\":30.834,\"id\":637,\"video\":false,\"vote_count\":9311,\"vote_average\":8.5,\"title\":\"Life Is Beautiful\",\"release_date\":\"1997-12-20\",\"original_language\":\"it\",\"original_title\":\"La vita è bella\",\"genre_ids\":[35,18],\"backdrop_path\":\"\\\\/6aNKD81RHR1DqUUa8kOZ1TBY1Lp.jpg\",\"adult\":false,\"overview\":\"A touching story of an Italian book seller of Jewish ancestry who lives in his own little fairy tale. His creative and happy life would come to an abrupt halt when his entire family is deported to a concentration camp during World War II. While locked up he tries to convince his son that the whole thing is just a game.\",\"poster_path\":\"\\\\/74hLDKjD5aGYOotO6esUVaeISa2.jpg\"},{\"popularity\":43.58,\"vote_count\":16312,\"video\":false,\"poster_path\":\"\\\\/rCzpDGLbOoPwLjy3OAm5NUPOTrC.jpg\",\"id\":122,\"adult\":false,\"backdrop_path\":\"\\\\/9DeGfFIqjph5CBFVQrD6wv9S7rR.jpg\",\"original_language\":\"en\",\"original_title\":\"The Lord of the Rings: The Return of the King\",\"genre_ids\":[28,12,14],\"title\":\"The Lord of the Rings: The Return of the King\",\"vote_average\":8.5,\"overview\":\"Aragorn is revealed as the heir to the ancient kings as he, Gandalf and the other members of the broken fellowship struggle to save Gondor from Sauron\\'s forces. Meanwhile, Frodo and Sam take the ring closer to the heart of Mordor, the dark lord\\'s realm.\",\"release_date\":\"2003-12-01\"},{\"popularity\":23.315,\"id\":389,\"video\":false,\"vote_count\":5000,\"vote_average\":8.5,\"title\":\"12 Angry Men\",\"release_date\":\"1957-04-10\",\"original_language\":\"en\",\"original_title\":\"12 Angry Men\",\"genre_ids\":[18],\"backdrop_path\":\"\\\\/qqHQsStV6exghCM7zbObuYBiYxw.jpg\",\"adult\":false,\"overview\":\"The defense and the prosecution have rested and the jury is filing into the jury room to decide if a young Spanish-American is guilty or innocent of murdering his father. What begins as an open and shut case soon becomes a mini-drama of each of the jurors\\' prejudices and preconceptions about the trial, the accused, and each other.\",\"poster_path\":\"\\\\/ppd84D2i9W8jXmsyInGyihiSyqz.jpg\"},{\"popularity\":52.997,\"id\":155,\"video\":false,\"vote_count\":23376,\"vote_average\":8.5,\"title\":\"The Dark Knight\",\"release_date\":\"2008-07-16\",\"original_language\":\"en\",\"original_title\":\"The Dark Knight\",\"genre_ids\":[18,28,80,53],\"backdrop_path\":\"\\\\/hkBaDkMWbLaf8B1lsWsKX7Ew3Xq.jpg\",\"adult\":false,\"overview\":\"Batman raises the stakes in his war on crime. With the help of Lt. Jim Gordon and District Attorney Harvey Dent, Batman sets out to dismantle the remaining criminal organizations that plague the streets. The partnership proves to be effective, but they soon find themselves prey to a reign of chaos unleashed by a rising criminal mastermind known to the terrified citizens of Gotham as the Joker.\",\"poster_path\":\"\\\\/qJ2tW6WMUDux911r6m7haRef0WH.jpg\"}]}'"
      ]
     },
     "execution_count": 22,
     "metadata": {},
     "output_type": "execute_result"
    }
   ],
   "source": [
    "httpQuery.text"
   ]
  },
  {
   "cell_type": "code",
   "execution_count": 23,
   "metadata": {},
   "outputs": [
    {
     "data": {
      "text/plain": [
       "20"
      ]
     },
     "execution_count": 23,
     "metadata": {},
     "output_type": "execute_result"
    }
   ],
   "source": [
    "len(httpQuery.json()['results'])"
   ]
  },
  {
   "cell_type": "code",
   "execution_count": 26,
   "metadata": {},
   "outputs": [
    {
     "data": {
      "text/plain": [
       "{'popularity': 14.967,\n",
       " 'vote_count': 850,\n",
       " 'video': False,\n",
       " 'poster_path': '/pci1ArYW7oJ2eyTo2NMYEKHHiCP.jpg',\n",
       " 'id': 724089,\n",
       " 'adult': False,\n",
       " 'backdrop_path': '/jtAI6OJIWLWiRItNSZoWjrsUtmi.jpg',\n",
       " 'original_language': 'en',\n",
       " 'original_title': \"Gabriel's Inferno Part II\",\n",
       " 'genre_ids': [10749],\n",
       " 'title': \"Gabriel's Inferno Part II\",\n",
       " 'vote_average': 8.9,\n",
       " 'overview': \"Professor Gabriel Emerson finally learns the truth about Julia Mitchell's identity, but his realization comes a moment too late. Julia is done waiting for the well-respected Dante specialist to remember her and wants nothing more to do with him. Can Gabriel win back her heart before she finds love in another's arms?\",\n",
       " 'release_date': '2020-07-31'}"
      ]
     },
     "execution_count": 26,
     "metadata": {},
     "output_type": "execute_result"
    }
   ],
   "source": [
    "httpQuery.json()['results'][0]"
   ]
  },
  {
   "cell_type": "code",
   "execution_count": 25,
   "metadata": {},
   "outputs": [],
   "source": [
    "httpQuery2 = tmdb.get(url, params={'page':2})"
   ]
  },
  {
   "cell_type": "code",
   "execution_count": 27,
   "metadata": {},
   "outputs": [
    {
     "data": {
      "text/plain": [
       "{'popularity': 30.182,\n",
       " 'id': 13,\n",
       " 'video': False,\n",
       " 'vote_count': 18950,\n",
       " 'vote_average': 8.5,\n",
       " 'title': 'Forrest Gump',\n",
       " 'release_date': '1994-07-06',\n",
       " 'original_language': 'en',\n",
       " 'original_title': 'Forrest Gump',\n",
       " 'genre_ids': [35, 18, 10749],\n",
       " 'backdrop_path': '/7c9UVPPiTPltouxRVY6N9uugaVA.jpg',\n",
       " 'adult': False,\n",
       " 'overview': 'A man with a low IQ has accomplished great things in his life and been present during significant historic events—in each case, far exceeding what anyone imagined he could do. But despite all he has achieved, his one true love eludes him.',\n",
       " 'poster_path': '/clolk7rB5lAjs41SD0Vt6IXYLMm.jpg'}"
      ]
     },
     "execution_count": 27,
     "metadata": {},
     "output_type": "execute_result"
    }
   ],
   "source": [
    "httpQuery2.json()['results'][0]"
   ]
  },
  {
   "cell_type": "code",
   "execution_count": 31,
   "metadata": {},
   "outputs": [],
   "source": [
    "tmdb2 = requests.Session()\n",
    "tmdb2.params = {'api_key':tmdb_api_key}"
   ]
  },
  {
   "cell_type": "code",
   "execution_count": 40,
   "metadata": {},
   "outputs": [],
   "source": [
    "httpQuery3 = tmdb2.get(url2)"
   ]
  },
  {
   "cell_type": "code",
   "execution_count": 41,
   "metadata": {},
   "outputs": [
    {
     "data": {
      "text/plain": [
       "200"
      ]
     },
     "execution_count": 41,
     "metadata": {},
     "output_type": "execute_result"
    }
   ],
   "source": [
    "httpQuery3.status_code"
   ]
  },
  {
   "cell_type": "code",
   "execution_count": 47,
   "metadata": {},
   "outputs": [
    {
     "data": {
      "text/plain": [
       "{'Content-Type': 'application/json;charset=utf-8', 'Transfer-Encoding': 'chunked', 'Connection': 'keep-alive', 'Date': 'Fri, 02 Oct 2020 14:04:12 GMT', 'Server': 'openresty', 'Access-Control-Allow-Origin': '*', 'Access-Control-Allow-Methods': 'GET, HEAD, POST, PUT, DELETE, OPTIONS', 'Access-Control-Expose-Headers': 'ETag, X-RateLimit-Limit, X-RateLimit-Remaining, X-RateLimit-Reset, Retry-After, Content-Length, Content-Range', 'Cache-Control': 'public, max-age=21600', 'x-memc': 'HIT', 'x-memc-key': 'dcbbd7cfdd2d9ac58c3b3fe5bedbbff2', 'x-memc-age': '2837', 'x-memc-expires': '18763', 'ETag': 'W/\"98d6f4fb3a0e0c77544a7277f32baebb\"', 'Last-Modified': 'Fri, 02 Oct 2020 14:04:12 GMT', 'Content-Encoding': 'gzip', 'Vary': 'Accept-Encoding', 'X-Cache': 'Miss from cloudfront', 'Via': '1.1 8e7a7fa539063c32ccfe07b305af2b26.cloudfront.net (CloudFront)', 'X-Amz-Cf-Pop': 'BOG50-C1', 'X-Amz-Cf-Id': 'VjEc1CvYmzpbajPlFjz6VVEgwoOnJbbVyCJj3Y9Rj2n5XkvhzQv1kQ=='}"
      ]
     },
     "execution_count": 47,
     "metadata": {},
     "output_type": "execute_result"
    }
   ],
   "source": [
    "httpQuery3.headers"
   ]
  },
  {
   "cell_type": "code",
   "execution_count": 42,
   "metadata": {},
   "outputs": [
    {
     "data": {
      "text/plain": [
       "'{\"genres\":[{\"id\":28,\"name\":\"Action\"},{\"id\":12,\"name\":\"Adventure\"},{\"id\":16,\"name\":\"Animation\"},{\"id\":35,\"name\":\"Comedy\"},{\"id\":80,\"name\":\"Crime\"},{\"id\":99,\"name\":\"Documentary\"},{\"id\":18,\"name\":\"Drama\"},{\"id\":10751,\"name\":\"Family\"},{\"id\":14,\"name\":\"Fantasy\"},{\"id\":36,\"name\":\"History\"},{\"id\":27,\"name\":\"Horror\"},{\"id\":10402,\"name\":\"Music\"},{\"id\":9648,\"name\":\"Mystery\"},{\"id\":10749,\"name\":\"Romance\"},{\"id\":878,\"name\":\"Science Fiction\"},{\"id\":10770,\"name\":\"TV Movie\"},{\"id\":53,\"name\":\"Thriller\"},{\"id\":10752,\"name\":\"War\"},{\"id\":37,\"name\":\"Western\"}]}'"
      ]
     },
     "execution_count": 42,
     "metadata": {},
     "output_type": "execute_result"
    }
   ],
   "source": [
    "httpQuery3.text"
   ]
  },
  {
   "cell_type": "code",
   "execution_count": 45,
   "metadata": {},
   "outputs": [
    {
     "name": "stdout",
     "output_type": "stream",
     "text": [
      "Action\n",
      "Adventure\n",
      "Animation\n",
      "Comedy\n",
      "Crime\n",
      "Documentary\n",
      "Drama\n",
      "Family\n",
      "Fantasy\n",
      "History\n",
      "Horror\n",
      "Music\n",
      "Mystery\n",
      "Romance\n",
      "Science Fiction\n",
      "TV Movie\n",
      "Thriller\n",
      "War\n",
      "Western\n"
     ]
    }
   ],
   "source": [
    "for genre in httpQuery3.json()['genres']:\n",
    "    print(genre['name'])"
   ]
  },
  {
   "cell_type": "code",
   "execution_count": null,
   "metadata": {},
   "outputs": [],
   "source": []
  }
 ],
 "metadata": {
  "kernelspec": {
   "display_name": "Python 3",
   "language": "python",
   "name": "python3"
  },
  "language_info": {
   "codemirror_mode": {
    "name": "ipython",
    "version": 3
   },
   "file_extension": ".py",
   "mimetype": "text/x-python",
   "name": "python",
   "nbconvert_exporter": "python",
   "pygments_lexer": "ipython3",
   "version": "3.8.2"
  }
 },
 "nbformat": 4,
 "nbformat_minor": 4
}
